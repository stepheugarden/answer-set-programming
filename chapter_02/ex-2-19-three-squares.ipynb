{
 "cells": [
  {
   "attachments": {},
   "cell_type": "markdown",
   "metadata": {},
   "source": [
    "# Sum of three squares \n",
    "\n",
    "Given an integer n: What number in $1...n$ cannot be written as sum of three sqaures?\n",
    "\n",
    "For instance we can write $3=1^2 + 1^2 + 1^2$ as a sum of three squares - thus 3 is not in the answer set"
   ]
  },
  {
   "cell_type": "code",
   "execution_count": 1,
   "metadata": {},
   "outputs": [
    {
     "name": "stdout",
     "output_type": "stream",
     "text": [
      "Overwriting ./instances/three_squares.lp\n"
     ]
    }
   ],
   "source": [
    "%%file ./instances/three_squares.lp\n",
    "% input number n\n",
    "number(N) :- N=1..n.\n",
    "\n",
    "% breaking the symmetry by restsricting I2 and I3\n",
    "threesqr(N) :- N = I1**2 + I2**2 + I3**2, number(N), I1=0..N, I2=0..N-I1, I3=0..N-I1-I2.\n",
    "\n",
    "% coprime\n",
    "not_threesqr(N) :- number(N), not threesqr(N).\n",
    "\n",
    "#show not_threesqr/1."
   ]
  },
  {
   "cell_type": "code",
   "execution_count": 2,
   "metadata": {},
   "outputs": [
    {
     "name": "stdout",
     "output_type": "stream",
     "text": [
      "clingo version 5.6.2\n",
      "Reading from ./instances/three_squares.lp\n",
      "Solving...\n",
      "Answer: 1\n",
      "not_threesqr(7) not_threesqr(15) not_threesqr(23) not_threesqr(28) not_threesqr(31) not_threesqr(39) not_threesqr(47) not_threesqr(55) not_threesqr(60) not_threesqr(63) not_threesqr(71) not_threesqr(79) not_threesqr(87) not_threesqr(92) not_threesqr(95)\n",
      "SATISFIABLE\n",
      "\n",
      "Models       : 1\n",
      "Calls        : 1\n",
      "Time         : 0.475s (Solving: 0.00s 1st Model: 0.00s Unsat: 0.00s)\n",
      "CPU Time     : 0.475s\n"
     ]
    }
   ],
   "source": [
    "!clingo ./instances/three_squares.lp -c n=100"
   ]
  },
  {
   "attachments": {},
   "cell_type": "markdown",
   "metadata": {},
   "source": [
    "Breaking the symmetry: Below the same problem is solved ignoring the \"shortcuts\" in I2 and I3."
   ]
  },
  {
   "cell_type": "code",
   "execution_count": 3,
   "metadata": {},
   "outputs": [
    {
     "name": "stdout",
     "output_type": "stream",
     "text": [
      "Overwriting ./instances/three_squares.lp\n"
     ]
    }
   ],
   "source": [
    "%%file ./instances/three_squares.lp\n",
    "% input number n\n",
    "number(N) :- N=1..n.\n",
    "\n",
    "% breaking the symmetry by restsricting I2 and I3\n",
    "threesqr(N) :- N = I1**2 + I2**2 + I3**2, number(N), I1=0..N, I2=0..N, I3=0..N.\n",
    "\n",
    "% coprime\n",
    "not_threesqr(N) :- number(N), not threesqr(N).\n",
    "\n",
    "#show not_threesqr/1."
   ]
  },
  {
   "cell_type": "code",
   "execution_count": 4,
   "metadata": {},
   "outputs": [
    {
     "name": "stdout",
     "output_type": "stream",
     "text": [
      "clingo version 5.6.2\n",
      "Reading from ./instances/three_squares.lp\n",
      "Solving...\n",
      "Answer: 1\n",
      "not_threesqr(7) not_threesqr(15) not_threesqr(23) not_threesqr(28) not_threesqr(31) not_threesqr(39) not_threesqr(47) not_threesqr(55) not_threesqr(60) not_threesqr(63) not_threesqr(71) not_threesqr(79) not_threesqr(87) not_threesqr(92) not_threesqr(95)\n",
      "SATISFIABLE\n",
      "\n",
      "Models       : 1\n",
      "Calls        : 1\n",
      "Time         : 2.421s (Solving: 0.00s 1st Model: 0.00s Unsat: 0.00s)\n",
      "CPU Time     : 2.421s\n"
     ]
    }
   ],
   "source": [
    "!clingo ./instances/three_squares.lp -c n=100"
   ]
  },
  {
   "attachments": {},
   "cell_type": "markdown",
   "metadata": {},
   "source": [
    "The time difference between the two approaches is quite large. In the first version the search space is \"significantly\" smaller."
   ]
  }
 ],
 "metadata": {
  "kernelspec": {
   "display_name": "potassco",
   "language": "python",
   "name": "python3"
  },
  "language_info": {
   "codemirror_mode": {
    "name": "ipython",
    "version": 3
   },
   "file_extension": ".py",
   "mimetype": "text/x-python",
   "name": "python",
   "nbconvert_exporter": "python",
   "pygments_lexer": "ipython3",
   "version": "3.11.3"
  },
  "orig_nbformat": 4
 },
 "nbformat": 4,
 "nbformat_minor": 2
}
