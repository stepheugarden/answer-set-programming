{
 "cells": [
  {
   "attachments": {},
   "cell_type": "markdown",
   "metadata": {},
   "source": [
    "# Constraints\n"
   ]
  },
  {
   "cell_type": "code",
   "execution_count": 13,
   "metadata": {},
   "outputs": [
    {
     "name": "stdout",
     "output_type": "stream",
     "text": [
      "Overwriting ./instances/constraint.lp\n"
     ]
    }
   ],
   "source": [
    "%%file ./instances/constraint.lp\n",
    "{p(1..10)}.\n",
    ":- p(2*X)."
   ]
  },
  {
   "attachments": {},
   "cell_type": "markdown",
   "metadata": {},
   "source": [
    "This program returns the power set of all negative numbers in 1 to 10. There are 5 negative numbers in 1 to 10, thus we will get $2^5=32$ answer sets."
   ]
  },
  {
   "cell_type": "code",
   "execution_count": 27,
   "metadata": {},
   "outputs": [
    {
     "name": "stdout",
     "output_type": "stream",
     "text": [
      "clingo version 5.6.2\n",
      "Reading from ./instances/constraint.lp\n",
      "Solving...\n",
      "Answer: 1\n",
      "\n",
      "Answer: 2\n",
      "p(3)\n",
      "Answer: 3\n",
      "p(5)\n",
      "Answer: 4\n",
      "p(3) p(5)\n",
      "Answer: 5\n",
      "p(7)\n",
      "Answer: 6\n",
      "p(5) p(7)\n",
      "Answer: 7\n",
      "p(3) p(7)\n",
      "Answer: 8\n",
      "p(3) p(5) p(7)\n",
      "Answer: 9\n",
      "p(9)\n",
      "Answer: 10\n",
      "p(3) p(9)\n",
      "Answer: 11\n",
      "p(7) p(9)\n",
      "Answer: 12\n",
      "p(3) p(7) p(9)\n",
      "Answer: 13\n",
      "p(5) p(9)\n",
      "Answer: 14\n",
      "p(5) p(7) p(9)\n",
      "Answer: 15\n",
      "p(3) p(5) p(9)\n",
      "Answer: 16\n",
      "p(3) p(5) p(7) p(9)\n",
      "Answer: 17\n",
      "p(1)\n",
      "Answer: 18\n",
      "p(1) p(3)\n",
      "Answer: 19\n",
      "p(1) p(5)\n",
      "Answer: 20\n",
      "p(1) p(3) p(5)\n",
      "Answer: 21\n",
      "p(1) p(9)\n",
      "Answer: 22\n",
      "p(1) p(5) p(9)\n",
      "Answer: 23\n",
      "p(1) p(3) p(9)\n",
      "Answer: 24\n",
      "p(1) p(3) p(5) p(9)\n",
      "Answer: 25\n",
      "p(1) p(7)\n",
      "Answer: 26\n",
      "p(1) p(3) p(7)\n",
      "Answer: 27\n",
      "p(1) p(7) p(9)\n",
      "Answer: 28\n",
      "p(1) p(3) p(7) p(9)\n",
      "Answer: 29\n",
      "p(1) p(5) p(7)\n",
      "Answer: 30\n",
      "p(1) p(5) p(7) p(9)\n",
      "Answer: 31\n",
      "p(1) p(3) p(5) p(7)\n",
      "Answer: 32\n",
      "p(1) p(3) p(5) p(7) p(9)\n",
      "SATISFIABLE\n",
      "\n",
      "Models       : 32\n",
      "Calls        : 1\n",
      "Time         : 0.001s (Solving: 0.00s 1st Model: 0.00s Unsat: 0.00s)\n",
      "CPU Time     : 0.001s\n"
     ]
    }
   ],
   "source": [
    "!clingo ./instances/constraint.lp 0"
   ]
  }
 ],
 "metadata": {
  "kernelspec": {
   "display_name": "potassco",
   "language": "python",
   "name": "python3"
  },
  "language_info": {
   "codemirror_mode": {
    "name": "ipython",
    "version": 3
   },
   "file_extension": ".py",
   "mimetype": "text/x-python",
   "name": "python",
   "nbconvert_exporter": "python",
   "pygments_lexer": "ipython3",
   "version": "3.11.3"
  },
  "orig_nbformat": 4
 },
 "nbformat": 4,
 "nbformat_minor": 2
}
