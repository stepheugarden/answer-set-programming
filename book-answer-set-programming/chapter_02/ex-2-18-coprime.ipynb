{
 "cells": [
  {
   "attachments": {},
   "cell_type": "markdown",
   "metadata": {},
   "source": [
    "# Coprime numbers\n",
    "That are numbers with only common divider equals to 1. Find all coprime numbers in the set $1...n$ with $k$:"
   ]
  },
  {
   "cell_type": "code",
   "execution_count": 55,
   "metadata": {},
   "outputs": [
    {
     "name": "stdout",
     "output_type": "stream",
     "text": [
      "Overwriting ./instances/coprime.lp\n"
     ]
    }
   ],
   "source": [
    "%%file ./instances/coprime.lp\n",
    "% input number n and number k\n",
    "number(N) :- N=1..n.\n",
    "\n",
    "% number N is noncomprime iff there is a number D>1 that divides N and k \n",
    "noncoprime(N) :- number(N), N\\D=0, k\\D=0, D=2..N.\n",
    "\n",
    "% coprime\n",
    "coprime(N) :- number(N), not noncoprime(N).\n",
    "\n",
    "#show coprime/1."
   ]
  },
  {
   "cell_type": "code",
   "execution_count": 56,
   "metadata": {},
   "outputs": [
    {
     "name": "stdout",
     "output_type": "stream",
     "text": [
      "clingo version 5.6.2\n",
      "Reading from ./instances/coprime.lp\n",
      "Solving...\n",
      "Answer: 1\n",
      "coprime(1) coprime(3) coprime(7) coprime(9) coprime(11) coprime(13) coprime(17) coprime(19) coprime(21) coprime(23) coprime(27) coprime(29) coprime(31) coprime(33) coprime(37) coprime(39) coprime(41) coprime(43) coprime(47) coprime(49) coprime(51) coprime(53) coprime(57) coprime(59) coprime(61) coprime(63) coprime(67) coprime(69) coprime(71) coprime(73) coprime(77) coprime(79) coprime(81) coprime(83) coprime(87) coprime(89) coprime(91) coprime(93) coprime(97) coprime(99)\n",
      "SATISFIABLE\n",
      "\n",
      "Models       : 1\n",
      "Calls        : 1\n",
      "Time         : 0.001s (Solving: 0.00s 1st Model: 0.00s Unsat: 0.00s)\n",
      "CPU Time     : 0.001s\n"
     ]
    }
   ],
   "source": [
    "!clingo ./instances/coprime.lp -c k=100 -c n=100"
   ]
  }
 ],
 "metadata": {
  "kernelspec": {
   "display_name": "potassco",
   "language": "python",
   "name": "python3"
  },
  "language_info": {
   "codemirror_mode": {
    "name": "ipython",
    "version": 3
   },
   "file_extension": ".py",
   "mimetype": "text/x-python",
   "name": "python",
   "nbconvert_exporter": "python",
   "pygments_lexer": "ipython3",
   "version": "3.11.3"
  },
  "orig_nbformat": 4
 },
 "nbformat": 4,
 "nbformat_minor": 2
}
