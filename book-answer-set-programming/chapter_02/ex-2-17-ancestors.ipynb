{
 "cells": [
  {
   "attachments": {},
   "cell_type": "markdown",
   "metadata": {},
   "source": [
    "Input file:"
   ]
  },
  {
   "cell_type": "code",
   "execution_count": 8,
   "metadata": {},
   "outputs": [
    {
     "name": "stdout",
     "output_type": "stream",
     "text": [
      "Overwriting ./instances/ancestors.lp\n"
     ]
    }
   ],
   "source": [
    "%%file ./instances/ancestors.lp\n",
    "% ann is parent of bob and bob has children carol and dan\n",
    "parent(ann, bob; bob, carol; bob, dan).\n",
    "\n",
    "% ancestors are recursive\n",
    "ancestor(X,Y) :- parent(X,Y).\n",
    "ancestor(Z,Y) :- ancestor(X,Y), ancestor(Z,X).\n",
    "\n",
    "% show all ancestors\n",
    "#show ancestor/2."
   ]
  },
  {
   "cell_type": "code",
   "execution_count": 9,
   "metadata": {},
   "outputs": [
    {
     "name": "stdout",
     "output_type": "stream",
     "text": [
      "clingo version 5.6.2\n",
      "Reading from ./instances/ancestors.lp\n",
      "Solving...\n",
      "Answer: 1\n",
      "ancestor(ann,bob) ancestor(bob,carol) ancestor(bob,dan) ancestor(ann,carol) ancestor(ann,dan)\n",
      "SATISFIABLE\n",
      "\n",
      "Models       : 1\n",
      "Calls        : 1\n",
      "Time         : 0.000s (Solving: 0.00s 1st Model: 0.00s Unsat: 0.00s)\n",
      "CPU Time     : 0.000s\n"
     ]
    }
   ],
   "source": [
    "!clingo 0 ./instances/ancestors.lp"
   ]
  }
 ],
 "metadata": {
  "kernelspec": {
   "display_name": "potassco",
   "language": "python",
   "name": "python3"
  },
  "language_info": {
   "codemirror_mode": {
    "name": "ipython",
    "version": 3
   },
   "file_extension": ".py",
   "mimetype": "text/x-python",
   "name": "python",
   "nbconvert_exporter": "python",
   "pygments_lexer": "ipython3",
   "version": "3.11.3"
  },
  "orig_nbformat": 4
 },
 "nbformat": 4,
 "nbformat_minor": 2
}
