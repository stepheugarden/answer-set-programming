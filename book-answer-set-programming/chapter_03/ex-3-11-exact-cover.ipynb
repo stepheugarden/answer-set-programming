{
 "cells": [
  {
   "attachments": {},
   "cell_type": "markdown",
   "metadata": {},
   "source": [
    "# Exact cover problem\n",
    "\n",
    "In the exact cover problem we are given a collection of sets and we try to find a subcollection of these sets s.t.:\n",
    " - the subcollection is pairwise disjoint\n",
    " - alle elements of the initial collection are in the union of the subcollection\n",
    "\n",
    "Example from Wikipedia:\n",
    "\n",
    "$S = \\{A, B, C, D, E, F\\}$ be a collection of subsets of a set $X = \\{1, 2, 3, 4, 5, 6, 7\\}$ such that:\n",
    "* $A = \\{1, 4, 7\\}$\n",
    "* $B = \\{1, 4\\}$\n",
    "* $C = \\{4, 5, 7\\}$\n",
    "* $D = \\{3, 5, 6\\}$\n",
    "* $E = \\{2, 3, 6, 7\\}$ and\n",
    "* $F = \\{2, 7\\}.$\n",
    "\n",
    "Then the subcollection $S= \\{B, D, F\\}$ is an exact cover, since each element in $X$ is contained in exactly one of the subsets:\n",
    "* $B = \\{1, 4\\}$\n",
    "* $D = \\{3, 5, 6\\}$ or\n",
    "* $F = \\{2, 7\\}.$\n"
   ]
  },
  {
   "cell_type": "code",
   "execution_count": 1,
   "metadata": {},
   "outputs": [
    {
     "name": "stdout",
     "output_type": "stream",
     "text": [
      "Overwriting ./instances/exact_cover_input.lp\n"
     ]
    }
   ],
   "source": [
    "%%file ./instances/exact_cover_input.lp\n",
    "\n",
    "s(\n",
    "    1,a; 4,a; 7,a;\n",
    "    1,b; 4,b;\n",
    "    4,c; 5,c; 7,c;\n",
    "    3,d; 5,d; 6,d;\n",
    "    2,e; 3,e; 6,e; 7,e;\n",
    "    2,f; 7,f\n",
    ")."
   ]
  },
  {
   "cell_type": "code",
   "execution_count": 2,
   "metadata": {},
   "outputs": [
    {
     "name": "stdout",
     "output_type": "stream",
     "text": [
      "Overwriting ./instances/exact_cover.lp\n"
     ]
    }
   ],
   "source": [
    "%%file ./instances/exact_cover.lp\n",
    "\n",
    "n(N) :- N = #count{L: s(_,L)}.\n",
    "elements(X) :- s(X, _).\n",
    "sets(S) :- s(_, S).\n",
    "\n",
    "% choose subcollection\n",
    "1 {chosen(S): sets(S)} N :- n(N).\n",
    "\n",
    "% chosen sets have to be disjoint\n",
    "X1 != X2 :- S1 != S2, chosen(S1), chosen(S2), s(X1, S1), s(X2, S2).\n",
    "\n",
    "% has to cover all elements\n",
    "covered(X) :- s(X, S), chosen(S).\n",
    ":- elements(X), not covered(X).\n",
    "\n",
    "#show chosen/1."
   ]
  },
  {
   "attachments": {},
   "cell_type": "markdown",
   "metadata": {},
   "source": [
    "There is only one exact cover to this problem:"
   ]
  },
  {
   "cell_type": "code",
   "execution_count": 3,
   "metadata": {},
   "outputs": [
    {
     "name": "stdout",
     "output_type": "stream",
     "text": [
      "clingo version 5.6.2\n",
      "Reading from ./instances/exact_cover_input.lp ...\n",
      "Solving...\n",
      "Answer: 1\n",
      "chosen(b) chosen(d) chosen(f)\n",
      "SATISFIABLE\n",
      "\n",
      "Models       : 1\n",
      "Calls        : 1\n",
      "Time         : 0.001s (Solving: 0.00s 1st Model: 0.00s Unsat: 0.00s)\n",
      "CPU Time     : 0.001s\n"
     ]
    }
   ],
   "source": [
    "!clingo ./instances/exact_cover_input.lp ./instances/exact_cover.lp 0"
   ]
  }
 ],
 "metadata": {
  "kernelspec": {
   "display_name": "potassco",
   "language": "python",
   "name": "python3"
  },
  "language_info": {
   "codemirror_mode": {
    "name": "ipython",
    "version": 3
   },
   "file_extension": ".py",
   "mimetype": "text/x-python",
   "name": "python",
   "nbconvert_exporter": "python",
   "pygments_lexer": "ipython3",
   "version": "3.11.3"
  },
  "orig_nbformat": 4
 },
 "nbformat": 4,
 "nbformat_minor": 2
}
