{
 "cells": [
  {
   "attachments": {},
   "cell_type": "markdown",
   "metadata": {},
   "source": [
    "# Clique cover\n",
    "\n",
    "Given a graph and a $n$: How many cliques of size $n$ do find (if any)? A clique is a subset of the graph s.t. all vertices belong to the clique are connected to each other."
   ]
  },
  {
   "cell_type": "code",
   "execution_count": 1,
   "metadata": {},
   "outputs": [
    {
     "name": "stdout",
     "output_type": "stream",
     "text": [
      "Writing ./instances/graph_clique_input.lp\n"
     ]
    }
   ],
   "source": [
    "%%file ./instances/graph_clique_input.lp\n",
    "% vertices and edge list\n",
    "\n",
    "vertex(a; b; c; d; e; f).\n",
    "edge(\n",
    "    a,b; a;d;\n",
    "    b,e; b,c;\n",
    "    c,a;\n",
    "    d,f;\n",
    "    f,e; f,c;\n",
    "    e,d\n",
    ")."
   ]
  },
  {
   "cell_type": "code",
   "execution_count": 11,
   "metadata": {},
   "outputs": [
    {
     "name": "stdout",
     "output_type": "stream",
     "text": [
      "Overwriting ./instances/graph_clique.lp\n"
     ]
    }
   ],
   "source": [
    "%%file ./instances/graph_clique.lp\n",
    "#const n=3.\n",
    "\n",
    "% make graph undirected\n",
    "edge(B,A) :- edge(A, B).\n",
    "\n",
    "% chose a set of size n\n",
    "{selected(V): vertex(V)} = n.\n",
    "\n",
    ":- selected(V1), selected(V2), not edge(V1, V2), V1 != V2.\n",
    "\n",
    "#show selected/1."
   ]
  },
  {
   "attachments": {},
   "cell_type": "markdown",
   "metadata": {},
   "source": [
    "There are no cliques of size 4:"
   ]
  },
  {
   "cell_type": "code",
   "execution_count": 13,
   "metadata": {},
   "outputs": [
    {
     "name": "stdout",
     "output_type": "stream",
     "text": [
      "clingo version 5.6.2\n",
      "Reading from ./instances/graph_clique_input.lp ...\n",
      "Solving...\n",
      "UNSATISFIABLE\n",
      "\n",
      "Models       : 0\n",
      "Calls        : 1\n",
      "Time         : 0.001s (Solving: 0.00s 1st Model: 0.00s Unsat: 0.00s)\n",
      "CPU Time     : 0.001s\n"
     ]
    }
   ],
   "source": [
    "!clingo ./instances/graph_clique_input.lp ./instances/graph_clique.lp 0 -c n=4"
   ]
  },
  {
   "attachments": {},
   "cell_type": "markdown",
   "metadata": {},
   "source": [
    "There are 2 cliques of size 3:"
   ]
  },
  {
   "cell_type": "code",
   "execution_count": 15,
   "metadata": {},
   "outputs": [
    {
     "name": "stdout",
     "output_type": "stream",
     "text": [
      "clingo version 5.6.2\n",
      "Reading from ./instances/graph_clique_input.lp ...\n",
      "Solving...\n",
      "Answer: 1\n",
      "selected(d) selected(e) selected(f)\n",
      "Answer: 2\n",
      "selected(a) selected(b) selected(c)\n",
      "SATISFIABLE\n",
      "\n",
      "Models       : 2\n",
      "Calls        : 1\n",
      "Time         : 0.001s (Solving: 0.00s 1st Model: 0.00s Unsat: 0.00s)\n",
      "CPU Time     : 0.001s\n"
     ]
    }
   ],
   "source": [
    "!clingo ./instances/graph_clique_input.lp ./instances/graph_clique.lp 0 -c n=3"
   ]
  },
  {
   "attachments": {},
   "cell_type": "markdown",
   "metadata": {},
   "source": [
    "and no cliques of size 4 or larger:"
   ]
  },
  {
   "cell_type": "code",
   "execution_count": 16,
   "metadata": {},
   "outputs": [
    {
     "name": "stdout",
     "output_type": "stream",
     "text": [
      "clingo version 5.6.2\n",
      "Reading from ./instances/graph_clique_input.lp ...\n",
      "Solving...\n",
      "UNSATISFIABLE\n",
      "\n",
      "Models       : 0\n",
      "Calls        : 1\n",
      "Time         : 0.001s (Solving: 0.00s 1st Model: 0.00s Unsat: 0.00s)\n",
      "CPU Time     : 0.001s\n"
     ]
    }
   ],
   "source": [
    "!clingo ./instances/graph_clique_input.lp ./instances/graph_clique.lp 0 -c n=4"
   ]
  },
  {
   "attachments": {},
   "cell_type": "markdown",
   "metadata": {},
   "source": []
  }
 ],
 "metadata": {
  "kernelspec": {
   "display_name": "potassco",
   "language": "python",
   "name": "python3"
  },
  "language_info": {
   "codemirror_mode": {
    "name": "ipython",
    "version": 3
   },
   "file_extension": ".py",
   "mimetype": "text/x-python",
   "name": "python",
   "nbconvert_exporter": "python",
   "pygments_lexer": "ipython3",
   "version": "3.11.3"
  },
  "orig_nbformat": 4
 },
 "nbformat": 4,
 "nbformat_minor": 2
}
