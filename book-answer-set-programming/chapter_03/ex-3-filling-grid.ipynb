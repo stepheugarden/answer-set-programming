{
 "cells": [
  {
   "attachments": {},
   "cell_type": "markdown",
   "metadata": {},
   "source": [
    "# Filling a grid with letters\n",
    "\n",
    "Given a $5 \\times 5$ grid and the letters $A,B,C,D,E$ what letter will go into the spot marked with a $?$ ?\n",
    "\n",
    "The rules are:\n",
    "- in each row and column each letter has to occure only once\n",
    "- each letter will occure only once in each of the main diagonals\n",
    "\n",
    "The grid (blanks are marked by an underline $\\_$ and have to be filled in by the programm):\n",
    "\n",
    "_ ? _ _ _ \\\n",
    "_ _ _ _ A \\\n",
    "_ _ B _ _ \\\n",
    "D _ D _ _ \\\n",
    "_ _ _ E _ "
   ]
  },
  {
   "cell_type": "code",
   "execution_count": 1,
   "metadata": {},
   "outputs": [
    {
     "name": "stdout",
     "output_type": "stream",
     "text": [
      "Overwriting ./instances/grid_fill.lp\n"
     ]
    }
   ],
   "source": [
    "%%file ./instances/grid_fill.lp\n",
    "\n",
    "field(\n",
    "    2, 5, a; \n",
    "    3, 3, b; \n",
    "    4, 1, d; \n",
    "    4, 3, c; \n",
    "    5, 4, e\n",
    ").\n",
    "letters(a; b; c; d; e).\n",
    "\n",
    "{field(X, Y, L) : letters(L)} = 1 :- X=1..5, Y=1..5.\n",
    "\n",
    "L1 = L2 :- field(X,Y,L1), field(X,Y,L2).\n",
    "\n",
    "N = 5 :- N = #count{L: field(X,_,L)}, X=1..5.\n",
    "N = 5 :- N = #count{L: field(_,Y,L)}, Y=1..5.\n",
    "N = 5 :- N = #count{L: field(X, X, L), X=1..5}.\n",
    "N = 5 :- N = #count{L: field(X,6-X,L), X = 1..5}.\n",
    "\n",
    "question_mark(L) :- field(1,2,L).\n",
    "#show question_mark/1.\n"
   ]
  },
  {
   "attachments": {},
   "cell_type": "markdown",
   "metadata": {},
   "source": [
    "There is one solution: only a $C$ is going to work:"
   ]
  },
  {
   "cell_type": "code",
   "execution_count": 2,
   "metadata": {},
   "outputs": [
    {
     "name": "stdout",
     "output_type": "stream",
     "text": [
      "clingo version 5.6.2\n",
      "Reading from ./instances/grid_fill.lp\n",
      "Solving...\n",
      "Answer: 1\n",
      "question_mark(c)\n",
      "SATISFIABLE\n",
      "\n",
      "Models       : 1\n",
      "Calls        : 1\n",
      "Time         : 0.003s (Solving: 0.00s 1st Model: 0.00s Unsat: 0.00s)\n",
      "CPU Time     : 0.003s\n"
     ]
    }
   ],
   "source": [
    "!clingo ./instances/grid_fill.lp 0"
   ]
  }
 ],
 "metadata": {
  "kernelspec": {
   "display_name": "potassco",
   "language": "python",
   "name": "python3"
  },
  "language_info": {
   "codemirror_mode": {
    "name": "ipython",
    "version": 3
   },
   "file_extension": ".py",
   "mimetype": "text/x-python",
   "name": "python",
   "nbconvert_exporter": "python",
   "pygments_lexer": "ipython3",
   "version": "3.11.3"
  },
  "orig_nbformat": 4
 },
 "nbformat": 4,
 "nbformat_minor": 2
}
