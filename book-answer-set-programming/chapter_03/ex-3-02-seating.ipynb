{
 "cells": [
  {
   "attachments": {},
   "cell_type": "markdown",
   "metadata": {},
   "source": [
    "# Seating\n",
    "\n",
    "Given:\n",
    "- n tables with each m chairs\n",
    "- m*n guests\n",
    "- each guest might or might not have a prefered partner to whom he/she wants to be at the same table (like set)\n",
    "- similar dislike set: different table"
   ]
  },
  {
   "cell_type": "code",
   "execution_count": 1,
   "metadata": {},
   "outputs": [
    {
     "name": "stdout",
     "output_type": "stream",
     "text": [
      "Overwriting ./instances/seating.lp\n"
     ]
    }
   ],
   "source": [
    "%%file ./instances/seating.lp\n",
    "#const n=5.\n",
    "#const m=4.\n",
    "\n",
    "like(1,2; 2,4; 4,8; 12,13).\n",
    "dislike(2,3; 3,4; 5,6; 7,8; 9,10; 11,12; 14,15).\n",
    "\n",
    "% seated(G,T): guest G is seated at table T\n",
    "% place m guests at each table\n",
    "{seated(1..m*n, T)} = m :- T=1..n.\n",
    "\n",
    "% each guest has to sit only at one table\n",
    "T1 = T2 :- seated(G, T1), seated(G, T2), G=1..m*n.\n",
    "\n",
    "% each table has disjoint guests\n",
    "%G1 = G2 :- seated(G1, T), seated(G2, T), T = 1..n.\n",
    "\n",
    "% like and dislike conditions\n",
    ":- seated(G1, T), seated(G2, T), dislike(G1, G2).\n",
    "T1 = T2 :- seated(G1, T1), seated(G2, T2), like(G1, G2). %, T = 1..n.\n",
    "\n",
    "#show seated/2."
   ]
  },
  {
   "attachments": {},
   "cell_type": "markdown",
   "metadata": {},
   "source": [
    "Print one solution:"
   ]
  },
  {
   "cell_type": "code",
   "execution_count": 2,
   "metadata": {},
   "outputs": [
    {
     "name": "stdout",
     "output_type": "stream",
     "text": [
      "clingo version 5.6.2\n",
      "Reading from instances/seating.lp\n",
      "Solving...\n",
      "Answer: 1\n",
      "seated(1,5) seated(2,5) seated(4,5) seated(8,5) seated(12,3) seated(13,3) seated(3,1) seated(6,1) seated(5,3) seated(7,2) seated(9,2) seated(10,4) seated(11,1) seated(14,1) seated(15,2) seated(16,4) seated(17,2) seated(18,4) seated(19,4) seated(20,3)\n",
      "SATISFIABLE\n",
      "\n",
      "Models       : 1+\n",
      "Calls        : 1\n",
      "Time         : 0.026s (Solving: 0.02s 1st Model: 0.02s Unsat: 0.00s)\n",
      "CPU Time     : 0.017s\n"
     ]
    }
   ],
   "source": [
    "!clingo instances/seating.lp 1"
   ]
  },
  {
   "attachments": {},
   "cell_type": "markdown",
   "metadata": {},
   "source": [
    "All permutations (run below command). Careful, there are millions:"
   ]
  },
  {
   "cell_type": "raw",
   "metadata": {},
   "source": [
    "!clingo instances/seating.lp 0 -q"
   ]
  }
 ],
 "metadata": {
  "kernelspec": {
   "display_name": "potassco",
   "language": "python",
   "name": "python3"
  },
  "language_info": {
   "codemirror_mode": {
    "name": "ipython",
    "version": 3
   },
   "file_extension": ".py",
   "mimetype": "text/x-python",
   "name": "python",
   "nbconvert_exporter": "python",
   "pygments_lexer": "ipython3",
   "version": "3.11.3"
  },
  "orig_nbformat": 4
 },
 "nbformat": 4,
 "nbformat_minor": 2
}
