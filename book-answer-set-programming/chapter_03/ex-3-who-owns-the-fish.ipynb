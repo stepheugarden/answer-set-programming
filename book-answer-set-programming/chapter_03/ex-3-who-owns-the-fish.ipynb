{
 "cells": [
  {
   "attachments": {},
   "cell_type": "markdown",
   "metadata": {},
   "source": [
    "# Who owns the fish?\n",
    "\n",
    "Who owns the fish given this clues:\n",
    "\n",
    "1. The Brit lives in the red house.\n",
    "2. The Swede keeps the dog.\n",
    "3. The Dane drinks tea.\n",
    "4. The green house is on the left of the white house.\n",
    "5. The owner of the green house drinks coffee.\n",
    "6. The person who smokes the Pall Mall rears birds.\n",
    "7. The owner of the yellow house smokes Dunhill.\n",
    "8. The man living in the house right in the center drinks milk.\n",
    "9. The Norwegian lives in the first house.\n",
    "10. The man who smokes Blend lives next to the one who has cats.\n",
    "11. The man who has horses lives next to the Dunhill smoker.\n",
    "12. The man who smokes Bluemaster drinks beer.\n",
    "13. Ther Geman smokes Princess.\n",
    "14. The Norwegian lives next to the blue house.\n",
    "15. The man who smokes Blend has a neighbor who drinks water.\n",
    "\n"
   ]
  },
  {
   "cell_type": "code",
   "execution_count": 1,
   "metadata": {},
   "outputs": [
    {
     "name": "stdout",
     "output_type": "stream",
     "text": [
      "Overwriting ./instances/who_owns_the_fish.lp\n"
     ]
    }
   ],
   "source": [
    "%%file ./instances/who_owns_the_fish.lp\n",
    "\n",
    "% atoms\n",
    "nation(brit; swede; dane; norwegian; german).\n",
    "house(red; white; green; yellow; blue).\n",
    "drink(tea; coffee; milk; beer; water).\n",
    "animal(dog; birds; cats; horses; fish).\n",
    "smoke(pall_mall; dunhill; blend; bluemaster; princess).\n",
    "\n",
    "% facts\n",
    "nation_house(brit, red). % 1.\n",
    "nation_animal(swede, dog). % 2.\n",
    "nation_drink(dane, tea). % 3.\n",
    "nation_smoke(german, princess). % 13\n",
    "\n",
    "% generate\n",
    "{nation_house(Nation, Color): house(Color)} = 1 :- nation(Nation).\n",
    "N1 = N2 :- nation_house(N1, C), nation_house(N2, C).\n",
    "\n",
    "{nation_animal(Nation, A): animal(A)} = 1 :- nation(Nation).\n",
    "N1 = N2 :- nation_animal(N1, A), nation_animal(N2, A).\n",
    "\n",
    "{nation_drink(Nation, D): drink(D)} = 1 :- nation(Nation).\n",
    "N1 = N2 :- nation_drink(N1, D), nation_drink(N2, D).\n",
    "\n",
    "{nation_smoke(Nation, S): smoke(S)} = 1 :- nation(Nation).\n",
    "N1 = N2 :- nation_smoke(N1, S), nation_smoke(N2, S).\n",
    "\n",
    "{house_number(Color, N): N=1..5} = 1 :- house(Color).\n",
    "C1 = C2 :- house_number(C1, N), house_number(C2, N).\n",
    "\n",
    "\n",
    "% conditionals\n",
    "% 4\n",
    "house_number(green, N-1) :- house_number(white, N).\n",
    "N > 0 :- house_number(_, N).\n",
    "N < 6 :- house_number(_, N).\n",
    "\n",
    "% 5\n",
    "nation_drink(N, coffee) :- nation_house(N, green).\n",
    "\n",
    "% 6 \n",
    "nation_animal(N, birds) :- nation_smoke(N, pall_mall).\n",
    "\n",
    "% 7\n",
    "nation_house(N, yellow) :- nation_smoke(N, dunhill).\n",
    "\n",
    "% 8\n",
    "nation_drink(N, milk) :- house_number(Color, 3), nation_house(N, Color).\n",
    "\n",
    "% 9\n",
    "house_number(Color, 1) :- nation_house(norwegian, Color).\n",
    "\n",
    "% 10\n",
    "blend_house_number(Number_Blend) :- nation_smoke(Nation_Blend, blend), nation_house(Nation_Blend, Color_Blend), house_number(Color_Blend, Number_Blend).\n",
    "cats_house_number(Number_Cats) :- nation_animal(Nation_Cats, cats), nation_house(Nation_Cats, Color_Cats), house_number(Color_Cats, Number_Cats).\n",
    "|Number_Blend - Number_Cats| = 1 :- cats_house_number(Number_Cats), blend_house_number(Number_Blend).\n",
    "\n",
    "% 11\n",
    "horses_house_number(Number_Horses) :- nation_animal(Nation_Horses, horses), nation_house(Nation_Horses, Color_Horses), house_number(Color_Horses, Number_Horses).\n",
    "dunhill_house_number(Number_Dunhill) :- nation_smoke(Nation_Dunhill, dunhill), nation_house(Nation_Dunhill, Color_Dunhill), house_number(Color_Dunhill, Number_Dunhill).\n",
    "|Number_Horses - Number_Dunhill| = 1:- horses_house_number(Number_Horses), dunhill_house_number(Number_Dunhill).\n",
    "\n",
    "% 12\n",
    "nation_drink(N, beer) :- nation_smoke(N, bluemaster).\n",
    "\n",
    "%% 14\n",
    "|Number_Norw - Number_Blue| = 1 :- nation_house(norwegian, Color_Norw), house_number(Color_Norw, Number_Norw), house_number(blue, Number_Blue).\n",
    "\n",
    "% 15\n",
    "water_house_number(Number_Water) :- nation_house(Nation, Color), nation_drink(Nation, water), house_number(Color, Number_Water).\n",
    "|Number_Water - Number_Blend| = 1 :- water_house_number(Number_Water), blend_house_number(Number_Blend).\n",
    "\n",
    "nation_fish(Nation) :- nation_animal(Nation, fish).\n",
    "\n",
    "#show nation_fish/1.\n"
   ]
  },
  {
   "attachments": {},
   "cell_type": "markdown",
   "metadata": {},
   "source": [
    "Ther german owns the fish:"
   ]
  },
  {
   "cell_type": "code",
   "execution_count": 2,
   "metadata": {},
   "outputs": [
    {
     "name": "stdout",
     "output_type": "stream",
     "text": [
      "clingo version 5.6.2\n",
      "Reading from ./instances/who_owns_the_fish.lp\n",
      "Solving...\n",
      "Answer: 1\n",
      "nation_fish(german)\n",
      "SATISFIABLE\n",
      "\n",
      "Models       : 1\n",
      "Calls        : 1\n",
      "Time         : 0.003s (Solving: 0.00s 1st Model: 0.00s Unsat: 0.00s)\n",
      "CPU Time     : 0.003s\n"
     ]
    }
   ],
   "source": [
    "!clingo ./instances/who_owns_the_fish.lp 0"
   ]
  }
 ],
 "metadata": {
  "kernelspec": {
   "display_name": "potassco",
   "language": "python",
   "name": "python3"
  },
  "language_info": {
   "codemirror_mode": {
    "name": "ipython",
    "version": 3
   },
   "file_extension": ".py",
   "mimetype": "text/x-python",
   "name": "python",
   "nbconvert_exporter": "python",
   "pygments_lexer": "ipython3",
   "version": "3.11.3"
  },
  "orig_nbformat": 4
 },
 "nbformat": 4,
 "nbformat_minor": 2
}
