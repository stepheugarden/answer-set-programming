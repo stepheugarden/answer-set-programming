{
 "cells": [
  {
   "attachments": {},
   "cell_type": "markdown",
   "metadata": {},
   "source": [
    "# Chessboard cover \n",
    "\n",
    "We try to cover a chessboard with $21$ $3\\times1$ tiles and $1$ $1\\times1$ tile."
   ]
  },
  {
   "cell_type": "code",
   "execution_count": 1,
   "metadata": {},
   "outputs": [
    {
     "name": "stdout",
     "output_type": "stream",
     "text": [
      "Overwriting ./instances/chess_cover.lp\n"
     ]
    }
   ],
   "source": [
    "%%file ./instances/chess_cover.lp\n",
    "\n",
    "% horizontal tiles h(R,C): tile starts in row R at position C through C+2\n",
    "% similar tiles v(R,C)\n",
    "\n",
    "% chose 21 v's and h's in total\n",
    "{v(1..6, 1..8); h(1..8, 1..6)} = 21.\n",
    "\n",
    "% no overlap within h and v\n",
    "C1=C2 :- h(R,C1), h(R, C2), |C1-C2|<3.\n",
    "R1=R2 :- v(R1,C), v(R2, C), |R2-R1|<3.\n",
    "\n",
    "% no overlap between v and h\n",
    "v_covered(R+(0..2), C) :- v(R,C).\n",
    "h_covered(R, C+(0..2)) :- h(R,C).\n",
    ":- h_covered(R, C), v_covered(R,C).\n",
    "#show h/2.\n",
    "#show v/2."
   ]
  },
  {
   "attachments": {},
   "cell_type": "markdown",
   "metadata": {},
   "source": [
    "First ten solutions:"
   ]
  },
  {
   "cell_type": "code",
   "execution_count": 2,
   "metadata": {},
   "outputs": [
    {
     "name": "stdout",
     "output_type": "stream",
     "text": [
      "clingo version 5.6.2\n",
      "Reading from ./instances/chess_cover.lp\n",
      "Solving...\n",
      "Answer: 1\n",
      "v(1,4) v(1,5) v(1,6) v(1,7) v(1,8) v(3,1) v(3,2) v(6,1) v(6,2) v(6,3) v(6,4) v(6,5) v(6,6) v(6,7) v(6,8) h(1,1) h(2,1) h(4,3) h(5,3) h(4,6) h(5,6)\n",
      "Answer: 2\n",
      "v(1,4) v(1,5) v(1,6) v(1,7) v(1,8) v(3,1) v(3,2) v(6,4) v(6,5) v(6,6) v(6,7) v(6,8) h(1,1) h(2,1) h(6,1) h(7,1) h(8,1) h(4,3) h(5,3) h(4,6) h(5,6)\n",
      "Answer: 3\n",
      "v(1,4) v(1,5) v(3,1) v(3,2) v(3,6) v(3,7) v(3,8) v(6,1) v(6,2) v(6,3) v(6,4) v(6,5) v(6,6) v(6,7) v(6,8) h(1,1) h(2,1) h(4,3) h(5,3) h(1,6) h(2,6)\n",
      "Answer: 4\n",
      "v(1,4) v(1,5) v(3,1) v(3,2) v(3,6) v(3,7) v(3,8) v(6,4) v(6,5) v(6,6) v(6,7) v(6,8) h(1,1) h(2,1) h(6,1) h(7,1) h(8,1) h(4,3) h(5,3) h(1,6) h(2,6)\n",
      "Answer: 5\n",
      "v(1,4) v(1,8) v(3,1) v(3,2) v(6,4) v(6,5) v(6,6) v(6,7) v(6,8) h(1,1) h(2,1) h(6,1) h(7,1) h(8,1) h(4,3) h(5,3) h(1,5) h(2,5) h(3,5) h(4,6) h(5,6)\n",
      "Answer: 6\n",
      "v(1,4) v(1,8) v(3,1) v(3,2) v(6,1) v(6,2) v(6,3) v(6,4) v(6,5) v(6,6) v(6,7) v(6,8) h(1,1) h(2,1) h(4,3) h(5,3) h(1,5) h(2,5) h(3,5) h(4,6) h(5,6)\n",
      "Answer: 7\n",
      "v(1,4) v(1,5) v(3,1) v(3,2) v(6,4) v(6,5) v(6,6) v(6,7) v(6,8) h(1,1) h(2,1) h(6,1) h(7,1) h(8,1) h(4,3) h(5,3) h(1,6) h(2,6) h(3,6) h(4,6) h(5,6)\n",
      "Answer: 8\n",
      "v(1,4) v(1,5) v(3,1) v(3,2) v(6,1) v(6,2) v(6,3) v(6,4) v(6,5) v(6,6) v(6,7) v(6,8) h(1,1) h(2,1) h(4,3) h(5,3) h(1,6) h(2,6) h(3,6) h(4,6) h(5,6)\n",
      "Answer: 9\n",
      "v(1,4) v(1,5) v(2,6) v(2,7) v(2,8) v(3,1) v(3,2) v(6,1) v(6,2) v(6,3) v(6,4) v(6,5) v(6,6) v(6,7) v(6,8) h(1,1) h(2,1) h(4,3) h(5,3) h(1,6) h(5,6)\n",
      "Answer: 10\n",
      "v(1,4) v(1,5) v(2,6) v(2,7) v(2,8) v(3,1) v(3,2) v(6,4) v(6,5) v(6,6) v(6,7) v(6,8) h(1,1) h(2,1) h(6,1) h(7,1) h(8,1) h(4,3) h(5,3) h(1,6) h(5,6)\n",
      "SATISFIABLE\n",
      "\n",
      "Models       : 10+\n",
      "Calls        : 1\n",
      "Time         : 0.293s (Solving: 0.29s 1st Model: 0.29s Unsat: 0.00s)\n",
      "CPU Time     : 0.293s\n"
     ]
    }
   ],
   "source": [
    "!clingo ./instances/chess_cover.lp 10"
   ]
  }
 ],
 "metadata": {
  "kernelspec": {
   "display_name": "potassco",
   "language": "python",
   "name": "python3"
  },
  "language_info": {
   "codemirror_mode": {
    "name": "ipython",
    "version": 3
   },
   "file_extension": ".py",
   "mimetype": "text/x-python",
   "name": "python",
   "nbconvert_exporter": "python",
   "pygments_lexer": "ipython3",
   "version": "3.11.3"
  },
  "orig_nbformat": 4
 },
 "nbformat": 4,
 "nbformat_minor": 2
}
