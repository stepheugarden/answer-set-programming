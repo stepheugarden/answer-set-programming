{
 "cells": [
  {
   "attachments": {},
   "cell_type": "markdown",
   "metadata": {},
   "source": [
    "# Chessboard cover \n",
    "\n",
    "We try to cover a chessboard with $21$ $3\\times1$ tiles and $1$ $1\\times1$ tile."
   ]
  },
  {
   "cell_type": "code",
   "execution_count": 19,
   "metadata": {},
   "outputs": [
    {
     "name": "stdout",
     "output_type": "stream",
     "text": [
      "Overwriting ./instances/chess_cover.lp\n"
     ]
    }
   ],
   "source": [
    "%%file ./instances/chess_cover.lp\n",
    "\n",
    "% horizontal tiles h(R,C): tile starts in row R at position C through C+2\n",
    "% similar tiles v(R,C)\n",
    "\n",
    "% chose 21 v's and h's in total\n",
    "{v(1..6, 1..8); h(1..8, 1..6)} = 21.\n",
    "\n",
    "% no overlap within h and v\n",
    "C1=C2 :- h(R,C1), h(R, C2), |C1-C2|<3.\n",
    "R1=R2 :- v(R1,C), v(R2, C), |R2-R1|<3.\n",
    "\n",
    "% no overlap between v and h\n",
    "v_covered(R+(0..2), C) :- v(R,C).\n",
    "h_covered(R, C+(0..2)) :- h(R,C).\n",
    ":- h_covered(R, C), v_covered(R,C).\n",
    "#show h/2.\n",
    "#show v/2."
   ]
  },
  {
   "attachments": {},
   "cell_type": "markdown",
   "metadata": {},
   "source": [
    "First ten solutions:"
   ]
  },
  {
   "cell_type": "code",
   "execution_count": 20,
   "metadata": {},
   "outputs": [
    {
     "name": "stdout",
     "output_type": "stream",
     "text": [
      "clingo version 5.6.2\n",
      "Reading from ./instances/chess_cover.lp\n",
      "Solving...\n",
      "^C\n",
      "*** Info : (clingo): INTERRUPTED by signal!\n",
      "SATISFIABLE\n",
      "\n",
      "INTERRUPTED  : 1\n",
      "Models       : 42+\n",
      "Calls        : 1\n",
      "Time         : 31.349s (Solving: 31.35s 1st Model: 0.28s Unsat: 0.00s)\n",
      "CPU Time     : 31.347s\n"
     ]
    }
   ],
   "source": [
    "!clingo ./instances/chess_cover.lp 10"
   ]
  }
 ],
 "metadata": {
  "kernelspec": {
   "display_name": "potassco",
   "language": "python",
   "name": "python3"
  },
  "language_info": {
   "codemirror_mode": {
    "name": "ipython",
    "version": 3
   },
   "file_extension": ".py",
   "mimetype": "text/x-python",
   "name": "python",
   "nbconvert_exporter": "python",
   "pygments_lexer": "ipython3",
   "version": "3.11.3"
  },
  "orig_nbformat": 4
 },
 "nbformat": 4,
 "nbformat_minor": 2
}
