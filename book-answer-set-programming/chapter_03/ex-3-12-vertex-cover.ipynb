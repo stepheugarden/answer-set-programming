{
 "cells": [
  {
   "attachments": {},
   "cell_type": "markdown",
   "metadata": {},
   "source": [
    "# Vertex cover problem\n",
    "\n",
    "Subset of a vertices of a graph such that all edges have at least one endpoint in this subset. Here we want to find a vertex cover of a given size $n$ if it exists.\n"
   ]
  },
  {
   "cell_type": "code",
   "execution_count": 1,
   "metadata": {},
   "outputs": [
    {
     "name": "stdout",
     "output_type": "stream",
     "text": [
      "Overwriting ./instances/vertex_cover_input.lp\n"
     ]
    }
   ],
   "source": [
    "%%file ./instances/vertex_cover_input.lp\n",
    "% vertices and edge list\n",
    "\n",
    "vertex(a; b; c; d; e; f).\n",
    "edge(\n",
    "    a,b; a;d;\n",
    "    b,e; b,c;\n",
    "    c,a;\n",
    "    d,f;\n",
    "    f,e; f,c;\n",
    "    e,d\n",
    ")."
   ]
  },
  {
   "cell_type": "code",
   "execution_count": 2,
   "metadata": {},
   "outputs": [
    {
     "name": "stdout",
     "output_type": "stream",
     "text": [
      "Overwriting ./instances/vertex_cover.lp\n"
     ]
    }
   ],
   "source": [
    "%%file ./instances/vertex_cover.lp\n",
    "% input n = the number of vertices to choose as a cover (defaults to 3)\n",
    "#const n=3.\n",
    "\n",
    "% make graph undirected. If you comment out this line then the program works for directed graphs\n",
    "edge(B,A) :- edge(A, B).\n",
    "\n",
    "% select cover\n",
    "{selected(V): vertex(V)} = n.\n",
    "\n",
    "% ensure that everything is connected to the cover\n",
    "covered(A) :- edge(A, V), selected(V).\n",
    "covered(V) :- selected(V).\n",
    "\n",
    ":- edge(A,_), not covered(A).\n",
    "\n",
    "#show selected/1."
   ]
  },
  {
   "attachments": {},
   "cell_type": "markdown",
   "metadata": {},
   "source": [
    "There is only one exact cover to this problem:"
   ]
  },
  {
   "cell_type": "code",
   "execution_count": 3,
   "metadata": {},
   "outputs": [
    {
     "name": "stdout",
     "output_type": "stream",
     "text": [
      "clingo version 5.6.2\n",
      "Reading from ./instances/vertex_cover_input.lp ...\n",
      "Solving...\n",
      "Answer: 1\n",
      "selected(a) selected(f)\n",
      "Answer: 2\n",
      "selected(e) selected(a)\n",
      "Answer: 3\n",
      "selected(a) selected(d)\n",
      "Answer: 4\n",
      "selected(b) selected(e)\n",
      "Answer: 5\n",
      "selected(b) selected(f)\n",
      "Answer: 6\n",
      "selected(b) selected(d)\n",
      "Answer: 7\n",
      "selected(c) selected(f)\n",
      "Answer: 8\n",
      "selected(e) selected(c)\n",
      "Answer: 9\n",
      "selected(c) selected(d)\n",
      "SATISFIABLE\n",
      "\n",
      "Models       : 9\n",
      "Calls        : 1\n",
      "Time         : 0.004s (Solving: 0.00s 1st Model: 0.00s Unsat: 0.00s)\n",
      "CPU Time     : 0.001s\n"
     ]
    }
   ],
   "source": [
    "!clingo ./instances/vertex_cover_input.lp ./instances/vertex_cover.lp 0 -c n=2"
   ]
  }
 ],
 "metadata": {
  "kernelspec": {
   "display_name": "potassco",
   "language": "python",
   "name": "python3"
  },
  "language_info": {
   "codemirror_mode": {
    "name": "ipython",
    "version": 3
   },
   "file_extension": ".py",
   "mimetype": "text/x-python",
   "name": "python",
   "nbconvert_exporter": "python",
   "pygments_lexer": "ipython3",
   "version": "3.11.3"
  },
  "orig_nbformat": 4
 },
 "nbformat": 4,
 "nbformat_minor": 2
}
