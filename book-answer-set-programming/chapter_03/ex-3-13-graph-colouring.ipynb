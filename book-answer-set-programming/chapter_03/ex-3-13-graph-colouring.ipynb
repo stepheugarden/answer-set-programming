{
 "cells": [
  {
   "attachments": {},
   "cell_type": "markdown",
   "metadata": {},
   "source": [
    "# Graph colouring problem\n",
    "\n",
    "Given a graph and $n$ the number of colours: Can we colour the vertices with the given colours s.t. no two adjecent vertices are of the same colour?"
   ]
  },
  {
   "cell_type": "code",
   "execution_count": 1,
   "metadata": {},
   "outputs": [
    {
     "name": "stdout",
     "output_type": "stream",
     "text": [
      "Overwriting ./instances/graph_colouring_input.lp\n"
     ]
    }
   ],
   "source": [
    "%%file ./instances/graph_colouring_input.lp\n",
    "% vertices and edge list\n",
    "\n",
    "vertex(a; b; c; d; e; f).\n",
    "edge(\n",
    "    a,b; a;d;\n",
    "    b,e; b,c;\n",
    "    c,a;\n",
    "    d,f;\n",
    "    f,e; f,c;\n",
    "    e,d\n",
    ")."
   ]
  },
  {
   "cell_type": "code",
   "execution_count": 2,
   "metadata": {},
   "outputs": [
    {
     "name": "stdout",
     "output_type": "stream",
     "text": [
      "Overwriting ./instances/graph_colouring.lp\n"
     ]
    }
   ],
   "source": [
    "%%file ./instances/graph_colouring.lp\n",
    "% input n = the number of colours to try to colour the graph (defaults to 3)\n",
    "#const n=3.\n",
    "\n",
    "% make graph undirected. If you comment out this line then the program works for directed graphs\n",
    "edge(B,A) :- edge(A, B).\n",
    "\n",
    "% assign colours: colour(Vertex, Colour)\n",
    "{colour(V, C): C = 1..n} = 1 :- vertex(V).\n",
    "\n",
    "C1 != C2 :- edge(X1, X2), colour(X1,C1), colour(X2,C2).\n",
    "\n",
    "#show colour/2."
   ]
  },
  {
   "attachments": {},
   "cell_type": "markdown",
   "metadata": {},
   "source": [
    "There is no solution with only two colours:"
   ]
  },
  {
   "cell_type": "code",
   "execution_count": 3,
   "metadata": {},
   "outputs": [
    {
     "name": "stdout",
     "output_type": "stream",
     "text": [
      "clingo version 5.6.2\n",
      "Reading from ./instances/graph_colouring_input.lp ...\n",
      "Solving...\n",
      "UNSATISFIABLE\n",
      "\n",
      "Models       : 0\n",
      "Calls        : 1\n",
      "Time         : 0.001s (Solving: 0.00s 1st Model: 0.00s Unsat: 0.00s)\n",
      "CPU Time     : 0.001s\n"
     ]
    }
   ],
   "source": [
    "!clingo ./instances/graph_colouring_input.lp ./instances/graph_colouring.lp 0 -c n=2"
   ]
  },
  {
   "attachments": {},
   "cell_type": "markdown",
   "metadata": {},
   "source": [
    "You need at least 3 colours:"
   ]
  },
  {
   "cell_type": "code",
   "execution_count": 4,
   "metadata": {},
   "outputs": [
    {
     "name": "stdout",
     "output_type": "stream",
     "text": [
      "clingo version 5.6.2\n",
      "Reading from ./instances/graph_colouring_input.lp ...\n",
      "Solving...\n",
      "Answer: 1\n",
      "colour(a,1) colour(b,2) colour(e,3) colour(c,3) colour(f,1) colour(d,2)\n",
      "Answer: 2\n",
      "colour(a,1) colour(b,2) colour(e,1) colour(c,3) colour(f,2) colour(d,3)\n",
      "Answer: 3\n",
      "colour(b,2) colour(a,3) colour(e,1) colour(c,1) colour(f,2) colour(d,3)\n",
      "Answer: 4\n",
      "colour(a,1) colour(b,2) colour(e,3) colour(c,3) colour(d,1) colour(f,2)\n",
      "Answer: 5\n",
      "colour(b,2) colour(a,3) colour(e,3) colour(c,1) colour(d,1) colour(f,2)\n",
      "Answer: 6\n",
      "colour(b,2) colour(a,3) colour(e,1) colour(c,1) colour(d,2) colour(f,3)\n",
      "Answer: 7\n",
      "colour(a,1) colour(b,3) colour(e,1) colour(c,2) colour(d,2) colour(f,3)\n",
      "Answer: 8\n",
      "colour(a,1) colour(b,3) colour(e,2) colour(c,2) colour(d,1) colour(f,3)\n",
      "Answer: 9\n",
      "colour(a,1) colour(b,3) colour(e,2) colour(c,2) colour(f,1) colour(d,3)\n",
      "Answer: 10\n",
      "colour(a,2) colour(b,3) colour(e,1) colour(c,1) colour(d,2) colour(f,3)\n",
      "Answer: 11\n",
      "colour(a,2) colour(b,3) colour(e,1) colour(c,1) colour(f,2) colour(d,3)\n",
      "Answer: 12\n",
      "colour(a,2) colour(b,3) colour(e,2) colour(c,1) colour(d,1) colour(f,3)\n",
      "Answer: 13\n",
      "colour(b,1) colour(a,3) colour(e,2) colour(c,2) colour(d,1) colour(f,3)\n",
      "Answer: 14\n",
      "colour(b,1) colour(a,3) colour(e,3) colour(c,2) colour(f,1) colour(d,2)\n",
      "Answer: 15\n",
      "colour(b,1) colour(a,2) colour(e,3) colour(c,3) colour(f,1) colour(d,2)\n",
      "Answer: 16\n",
      "colour(b,1) colour(a,3) colour(e,2) colour(c,2) colour(f,1) colour(d,3)\n",
      "Answer: 17\n",
      "colour(b,1) colour(a,2) colour(e,2) colour(c,3) colour(f,1) colour(d,3)\n",
      "Answer: 18\n",
      "colour(b,1) colour(a,2) colour(e,3) colour(c,3) colour(d,1) colour(f,2)\n",
      "SATISFIABLE\n",
      "\n",
      "Models       : 18\n",
      "Calls        : 1\n",
      "Time         : 0.002s (Solving: 0.00s 1st Model: 0.00s Unsat: 0.00s)\n",
      "CPU Time     : 0.002s\n"
     ]
    }
   ],
   "source": [
    "!clingo ./instances/graph_colouring_input.lp ./instances/graph_colouring.lp 0 -c n=3"
   ]
  }
 ],
 "metadata": {
  "kernelspec": {
   "display_name": "potassco",
   "language": "python",
   "name": "python3"
  },
  "language_info": {
   "codemirror_mode": {
    "name": "ipython",
    "version": 3
   },
   "file_extension": ".py",
   "mimetype": "text/x-python",
   "name": "python",
   "nbconvert_exporter": "python",
   "pygments_lexer": "ipython3",
   "version": "3.11.3"
  },
  "orig_nbformat": 4
 },
 "nbformat": 4,
 "nbformat_minor": 2
}
