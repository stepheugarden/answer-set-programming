{
 "cells": [
  {
   "attachments": {},
   "cell_type": "markdown",
   "metadata": {},
   "source": [
    "# Bishops on a chessboard\n",
    "\n",
    "Place as many bishops on a chessboard as possible s.t. they are not attacking each other."
   ]
  },
  {
   "cell_type": "code",
   "execution_count": 1,
   "metadata": {},
   "outputs": [
    {
     "name": "stdout",
     "output_type": "stream",
     "text": [
      "Overwriting ./instances/bishops.lp\n"
     ]
    }
   ],
   "source": [
    "%%file ./instances/bishops.lp\n",
    "\n",
    "field(1..8, 1..8).\n",
    "\n",
    "{placed(X,Y): field(X,Y)} = n.\n",
    "\n",
    "|X1-X2| != |Y1-Y2| :- placed(X1, Y1), placed(X2, Y2), X1 != X2.\n",
    "|X1-X2| != |Y1-Y2| :- placed(X1, Y1), placed(X2, Y2), Y1 != Y2.\n",
    "\n",
    "\n",
    "#show placed/2.\n"
   ]
  },
  {
   "attachments": {},
   "cell_type": "markdown",
   "metadata": {},
   "source": [
    "It runs for 14 but not 15 bishops anymore (here the first ten solutions):"
   ]
  },
  {
   "cell_type": "code",
   "execution_count": 2,
   "metadata": {},
   "outputs": [
    {
     "name": "stdout",
     "output_type": "stream",
     "text": [
      "clingo version 5.6.2\n",
      "Reading from ./instances/bishops.lp\n",
      "Solving...\n",
      "Answer: 1\n",
      "placed(1,1) placed(1,2) placed(3,1) placed(6,8) placed(4,1) placed(5,8) placed(4,8) placed(5,1) placed(3,8) placed(6,1) placed(2,8) placed(7,1) placed(8,1) placed(8,7)\n",
      "Answer: 2\n",
      "placed(1,1) placed(1,2) placed(1,3) placed(4,1) placed(5,8) placed(4,8) placed(5,1) placed(3,8) placed(6,1) placed(2,8) placed(7,1) placed(8,1) placed(8,7) placed(8,6)\n",
      "Answer: 3\n",
      "placed(1,1) placed(1,2) placed(3,1) placed(6,8) placed(4,1) placed(5,8) placed(4,8) placed(5,1) placed(3,8) placed(6,1) placed(1,7) placed(8,1) placed(8,7) placed(8,2)\n",
      "Answer: 4\n",
      "placed(1,1) placed(1,2) placed(1,3) placed(4,1) placed(5,8) placed(4,8) placed(5,1) placed(3,8) placed(6,1) placed(1,7) placed(8,1) placed(8,7) placed(8,2) placed(8,6)\n",
      "Answer: 5\n",
      "placed(1,1) placed(1,2) placed(1,3) placed(4,1) placed(5,8) placed(1,5) placed(3,8) placed(6,1) placed(1,7) placed(8,1) placed(8,7) placed(8,2) placed(8,6) placed(8,4)\n",
      "Answer: 6\n",
      "placed(1,1) placed(1,2) placed(3,1) placed(6,8) placed(4,1) placed(5,8) placed(1,5) placed(3,8) placed(6,1) placed(1,7) placed(8,1) placed(8,7) placed(8,2) placed(8,4)\n",
      "Answer: 7\n",
      "placed(1,1) placed(1,2) placed(3,1) placed(6,8) placed(4,1) placed(5,8) placed(1,5) placed(3,8) placed(6,1) placed(2,8) placed(7,1) placed(8,1) placed(8,7) placed(8,4)\n",
      "Answer: 8\n",
      "placed(1,1) placed(1,2) placed(1,3) placed(4,1) placed(5,8) placed(1,5) placed(3,8) placed(6,1) placed(2,8) placed(7,1) placed(8,1) placed(8,7) placed(8,6) placed(8,4)\n",
      "Answer: 9\n",
      "placed(1,1) placed(1,2) placed(1,3) placed(4,1) placed(5,8) placed(4,8) placed(5,1) placed(3,8) placed(6,1) placed(1,7) placed(1,8) placed(8,7) placed(8,2) placed(8,6)\n",
      "Answer: 10\n",
      "placed(1,1) placed(1,2) placed(1,3) placed(4,1) placed(5,8) placed(4,8) placed(5,1) placed(3,8) placed(6,1) placed(2,8) placed(7,1) placed(1,8) placed(8,7) placed(8,6)\n",
      "SATISFIABLE\n",
      "\n",
      "Models       : 10+\n",
      "Calls        : 1\n",
      "Time         : 0.116s (Solving: 0.11s 1st Model: 0.11s Unsat: 0.00s)\n",
      "CPU Time     : 0.116s\n"
     ]
    }
   ],
   "source": [
    "!clingo ./instances/bishops.lp 10 -c n=14"
   ]
  },
  {
   "attachments": {},
   "cell_type": "markdown",
   "metadata": {},
   "source": [
    "Below the generic way: We try to place as many bishops as possible. For instance on $4 \\times 4$ board you can place 6 bishops:"
   ]
  },
  {
   "cell_type": "code",
   "execution_count": 3,
   "metadata": {},
   "outputs": [
    {
     "name": "stdout",
     "output_type": "stream",
     "text": [
      "Overwriting ./instances/bishops.lp\n"
     ]
    }
   ],
   "source": [
    "%%file ./instances/bishops.lp\n",
    "\n",
    "field(1..4, 1..4). % it takes a longer time if you chose more fields\n",
    "\n",
    "fields(F) :- F = #count{X,Y: field(X,Y)}.\n",
    "0 < {placed(X,Y): field(X,Y)} <= F :- fields(F).\n",
    "n_placed(N) :- N = #count{X,Y: placed(X,Y)}.\n",
    "\n",
    "|X1-X2| != |Y1-Y2| :- placed(X1, Y1), placed(X2, Y2), X1 != X2.\n",
    "|X1-X2| != |Y1-Y2| :- placed(X1, Y1), placed(X2, Y2), Y1 != Y2.\n",
    "\n",
    "\n",
    "#maximize{N: n_placed(N)}.\n",
    "\n",
    "\n",
    "#show n_placed/1.\n",
    "#show placed/2."
   ]
  },
  {
   "cell_type": "code",
   "execution_count": 4,
   "metadata": {},
   "outputs": [
    {
     "name": "stdout",
     "output_type": "stream",
     "text": [
      "clingo version 5.6.2\n",
      "Reading from ./instances/bishops.lp\n",
      "Solving...\n",
      "Answer: 1\n",
      "placed(4,3) n_placed(1)\n",
      "Optimization: -1\n",
      "Answer: 2\n",
      "placed(4,2) placed(4,3) n_placed(2)\n",
      "Optimization: -2\n",
      "Answer: 3\n",
      "placed(1,1) placed(4,2) placed(4,3) n_placed(3)\n",
      "Optimization: -3\n",
      "Answer: 4\n",
      "placed(1,1) placed(4,1) placed(4,2) placed(4,3) n_placed(4)\n",
      "Optimization: -4\n",
      "Answer: 5\n",
      "placed(1,1) placed(1,3) placed(3,4) placed(4,1) placed(4,2) n_placed(5)\n",
      "Optimization: -5\n",
      "Answer: 6\n",
      "placed(1,1) placed(1,2) placed(1,3) placed(4,1) placed(4,2) placed(4,3) n_placed(6)\n",
      "Optimization: -6\n",
      "OPTIMUM FOUND\n",
      "\n",
      "Models       : 6\n",
      "  Optimum    : yes\n",
      "Optimization : -6\n",
      "Calls        : 1\n",
      "Time         : 0.002s (Solving: 0.00s 1st Model: 0.00s Unsat: 0.00s)\n",
      "CPU Time     : 0.002s\n"
     ]
    }
   ],
   "source": [
    "!clingo ./instances/bishops.lp 0"
   ]
  }
 ],
 "metadata": {
  "kernelspec": {
   "display_name": "potassco",
   "language": "python",
   "name": "python3"
  },
  "language_info": {
   "codemirror_mode": {
    "name": "ipython",
    "version": 3
   },
   "file_extension": ".py",
   "mimetype": "text/x-python",
   "name": "python",
   "nbconvert_exporter": "python",
   "pygments_lexer": "ipython3",
   "version": "3.11.3"
  },
  "orig_nbformat": 4
 },
 "nbformat": 4,
 "nbformat_minor": 2
}
