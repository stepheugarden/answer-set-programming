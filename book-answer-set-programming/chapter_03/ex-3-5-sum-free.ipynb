{
 "cells": [
  {
   "attachments": {},
   "cell_type": "markdown",
   "metadata": {},
   "source": [
    "# Sum-free\n",
    "\n",
    "A set $S$ is called sum-free if for and $s_1, s_2 \\in S$ it holds that $s_1+s_2 \\not \\in S$.\n",
    "\n",
    "We want to partition the set $1..n$ into $k$ sum-free disjoint sets"
   ]
  },
  {
   "cell_type": "code",
   "execution_count": 1,
   "metadata": {},
   "outputs": [
    {
     "name": "stdout",
     "output_type": "stream",
     "text": [
      "Overwriting ./instances/sumfree.lp\n"
     ]
    }
   ],
   "source": [
    "%%file ./instances/sumfree.lp\n",
    "\n",
    "%input integer n and k as described above\n",
    "\n",
    "% assign each number to one of k sets\n",
    "{a(N, S): S=1..k} = 1:- N=1..n.\n",
    "\n",
    "% each set S has to be sum-free\n",
    ":- a(N_sum, S), a(N1, S), a(N2, S), N_sum = N1+N2.\n",
    "\n",
    "#show a/2."
   ]
  },
  {
   "attachments": {},
   "cell_type": "markdown",
   "metadata": {},
   "source": [
    "You can not partition $\\{1,2,3,4,5\\}$ into two sum-free sets. Suppose you can:\n",
    "- 1 and 2 have to be in two different sets (1+1=2)\n",
    "- then you have to put 4 to the set with the 1 since 2+2=4. Which leads to the fact that 3 has to go to the set with the 2 (since 1+3=4). But now there is no room for the 5\n",
    "\n",
    "Contradiction. Which is also demonstrated belwo:"
   ]
  },
  {
   "cell_type": "code",
   "execution_count": 2,
   "metadata": {},
   "outputs": [
    {
     "name": "stdout",
     "output_type": "stream",
     "text": [
      "clingo version 5.6.2\n",
      "Reading from instances/sumfree.lp\n",
      "Solving...\n",
      "UNSATISFIABLE\n",
      "\n",
      "Models       : 0\n",
      "Calls        : 1\n",
      "Time         : 0.001s (Solving: 0.00s 1st Model: 0.00s Unsat: 0.00s)\n",
      "CPU Time     : 0.001s\n"
     ]
    }
   ],
   "source": [
    "!clingo instances/sumfree.lp 1 -c n=5 -c k=2"
   ]
  },
  {
   "cell_type": "code",
   "execution_count": 3,
   "metadata": {},
   "outputs": [
    {
     "name": "stdout",
     "output_type": "stream",
     "text": [
      "clingo version 5.6.2\n",
      "Reading from instances/sumfree.lp\n",
      "Solving...\n",
      "Answer: 1\n",
      "a(5,1) a(6,1) a(2,2) a(3,2) a(8,2) a(9,2) a(1,3) a(4,3) a(7,3) a(10,3)\n",
      "SATISFIABLE\n",
      "\n",
      "Models       : 1+\n",
      "Calls        : 1\n",
      "Time         : 0.001s (Solving: 0.00s 1st Model: 0.00s Unsat: 0.00s)\n",
      "CPU Time     : 0.001s\n"
     ]
    }
   ],
   "source": [
    "!clingo instances/sumfree.lp 1 -c n=10 -c k=3"
   ]
  },
  {
   "attachments": {},
   "cell_type": "markdown",
   "metadata": {},
   "source": [
    "All permutations:"
   ]
  },
  {
   "cell_type": "code",
   "execution_count": 4,
   "metadata": {},
   "outputs": [
    {
     "name": "stdout",
     "output_type": "stream",
     "text": [
      "clingo version 5.6.2\n",
      "Reading from instances/sumfree.lp\n",
      "Solving...\n",
      "SATISFIABLE\n",
      "\n",
      "Models       : 300\n",
      "Calls        : 1\n",
      "Time         : 0.001s (Solving: 0.00s 1st Model: 0.00s Unsat: 0.00s)\n",
      "CPU Time     : 0.001s\n"
     ]
    }
   ],
   "source": [
    "!clingo instances/sumfree.lp 0 -q -c n=10 -c k=3"
   ]
  }
 ],
 "metadata": {
  "kernelspec": {
   "display_name": "potassco",
   "language": "python",
   "name": "python3"
  },
  "language_info": {
   "codemirror_mode": {
    "name": "ipython",
    "version": 3
   },
   "file_extension": ".py",
   "mimetype": "text/x-python",
   "name": "python",
   "nbconvert_exporter": "python",
   "pygments_lexer": "ipython3",
   "version": "3.11.3"
  },
  "orig_nbformat": 4
 },
 "nbformat": 4,
 "nbformat_minor": 2
}
