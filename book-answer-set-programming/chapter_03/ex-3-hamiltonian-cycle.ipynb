{
 "cells": [
  {
   "attachments": {},
   "cell_type": "markdown",
   "metadata": {},
   "source": [
    "# Hamiltonian cycle \n",
    "\n",
    "A cycle that visits every node of a graph exactly once is called Hamiltonian cycle. Here we are constructing such cycles."
   ]
  },
  {
   "cell_type": "code",
   "execution_count": 1,
   "metadata": {},
   "outputs": [
    {
     "name": "stdout",
     "output_type": "stream",
     "text": [
      "Overwriting ./instances/hamiltonian_input.lp\n"
     ]
    }
   ],
   "source": [
    "%%file ./instances/hamiltonian_input.lp\n",
    "% vertices and edge list\n",
    "\n",
    "vertex(a; b; c; d; e; f).\n",
    "edge(\n",
    "    a,b; a;d;\n",
    "    b,e; b,c;\n",
    "    c,a;\n",
    "    d,f;\n",
    "    f,e; f,c;\n",
    "    e,d\n",
    ")."
   ]
  },
  {
   "cell_type": "code",
   "execution_count": 2,
   "metadata": {},
   "outputs": [
    {
     "name": "stdout",
     "output_type": "stream",
     "text": [
      "Overwriting ./instances/hamiltonian.lp\n"
     ]
    }
   ],
   "source": [
    "%%file ./instances/hamiltonian.lp\n",
    "\n",
    "n(N) :- N = #count{V: vertex(V)}.\n",
    "\n",
    "% assign an ordering to every node\n",
    "{order(V,O): O=1..N, n(N)} = 1 :- vertex(V).\n",
    "V1 = V2 :- order(V1, O), order(V2, O).\n",
    "\n",
    "% check that there is actually a path between the vertex orders\n",
    ":- order(V1, O1), order(V2, O2), O2 = O1+1, not edge(V1, V2).\n",
    ":- order(V1, O1), order(V2, O2), n(O2), O2 = O1+1, not edge(V1, V2).\n",
    "\n",
    "#show order/2."
   ]
  },
  {
   "attachments": {},
   "cell_type": "markdown",
   "metadata": {},
   "source": [
    "There are 6 permutations of this solution:"
   ]
  },
  {
   "cell_type": "code",
   "execution_count": 3,
   "metadata": {},
   "outputs": [
    {
     "name": "stdout",
     "output_type": "stream",
     "text": [
      "clingo version 5.6.2\n",
      "Reading from ./instances/hamiltonian_input.lp ...\n",
      "Solving...\n",
      "Answer: 1\n",
      "order(f,5) order(c,6) order(a,1) order(b,2) order(e,3) order(d,4)\n",
      "Answer: 2\n",
      "order(a,6) order(c,5) order(b,1) order(e,2) order(d,3) order(f,4)\n",
      "Answer: 3\n",
      "order(b,5) order(e,6) order(d,1) order(f,2) order(a,4) order(c,3)\n",
      "Answer: 4\n",
      "order(e,5) order(d,6) order(f,1) order(a,3) order(b,4) order(c,2)\n",
      "Answer: 5\n",
      "order(d,5) order(f,6) order(a,2) order(b,3) order(e,4) order(c,1)\n",
      "Answer: 6\n",
      "order(a,5) order(b,6) order(e,1) order(d,2) order(f,3) order(c,4)\n",
      "SATISFIABLE\n",
      "\n",
      "Models       : 6\n",
      "Calls        : 1\n",
      "Time         : 0.001s (Solving: 0.00s 1st Model: 0.00s Unsat: 0.00s)\n",
      "CPU Time     : 0.001s\n"
     ]
    }
   ],
   "source": [
    "!clingo ./instances/hamiltonian_input.lp ./instances/hamiltonian.lp 0 -c n=2"
   ]
  }
 ],
 "metadata": {
  "kernelspec": {
   "display_name": "potassco",
   "language": "python",
   "name": "python3"
  },
  "language_info": {
   "codemirror_mode": {
    "name": "ipython",
    "version": 3
   },
   "file_extension": ".py",
   "mimetype": "text/x-python",
   "name": "python",
   "nbconvert_exporter": "python",
   "pygments_lexer": "ipython3",
   "version": "3.11.3"
  },
  "orig_nbformat": 4
 },
 "nbformat": 4,
 "nbformat_minor": 2
}
