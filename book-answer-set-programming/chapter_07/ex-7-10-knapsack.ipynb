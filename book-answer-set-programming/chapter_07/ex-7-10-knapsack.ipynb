{
 "cells": [
  {
   "attachments": {},
   "cell_type": "markdown",
   "metadata": {},
   "source": [
    "# Knapsack\n",
    "\n",
    "Given item-value pairs we want to maximize the value s.t. the selected weights are not exceeding a predefined.\n",
    "\n",
    "In this version of the knapsack problem we want to additionally restrict the volume of the selected items. That means we are given:\n",
    "- $w_i:$ weight of item $i$\n",
    "- $v_i:$ value of item $i$\n",
    "- $vol_i:$ volume of item $i$\n",
    "\n",
    "**Remark: we solve the $0-1$ knapsack problem, i.e. you either select an item or you don't. No repetitions.**"
   ]
  },
  {
   "cell_type": "code",
   "execution_count": 1,
   "metadata": {},
   "outputs": [
    {
     "name": "stdout",
     "output_type": "stream",
     "text": [
      "Overwriting ./instances/knapsack_small.lp\n"
     ]
    }
   ],
   "source": [
    "%%file ./instances/knapsack_small.lp\n",
    "\n",
    "weight(a,12; b,1; c,4; d,2; e,1).\n",
    "value(a,4; b,2; c,10; d,2; e,1).\n",
    "volume(a,4; b,10; c,1; d,33; e,5)."
   ]
  },
  {
   "attachments": {},
   "cell_type": "markdown",
   "metadata": {},
   "source": [
    "Solver:\n",
    "\n",
    "- maxweight: defaults to 15. The weights must not exceed this value\n",
    "- maxvolume: defaults to 21. The volumne must not exceed this value"
   ]
  },
  {
   "cell_type": "code",
   "execution_count": 2,
   "metadata": {},
   "outputs": [
    {
     "name": "stdout",
     "output_type": "stream",
     "text": [
      "Overwriting ./instances/knapsack.lp\n"
     ]
    }
   ],
   "source": [
    "%%file ./instances/knapsack.lp\n",
    "\n",
    "#const maxweight=15.\n",
    "#const maxvolume=21.\n",
    "\n",
    "% select items\n",
    "{selected(I)} :- weight(I,_).\n",
    "\n",
    "% weight restriction\n",
    "total_weight(S) :- S = #sum{W,I: weight(I,W), selected(I)}.\n",
    ":- S > maxweight, total_weight(S).\n",
    "\n",
    "% volumne restriction\n",
    "total_volume(S) :- S = #sum{V,I: volume(I,V), selected(I)}.\n",
    ":- S > maxvolume, total_volume(S).\n",
    "\n",
    "% maximize value\n",
    "#maximize{V,I: value(I,V), selected(I)}.\n",
    "\n",
    "#show selected/1.\n",
    "#show total_weight/1.\n",
    "#show total_volume/1."
   ]
  },
  {
   "cell_type": "code",
   "execution_count": 3,
   "metadata": {},
   "outputs": [
    {
     "name": "stdout",
     "output_type": "stream",
     "text": [
      "clingo version 5.6.2\n",
      "Reading from ./instances/knapsack_small.lp ...\n",
      "Solving...\n",
      "Answer: 1\n",
      "total_volume(0) total_weight(0)\n",
      "Optimization: 0\n",
      "Answer: 2\n",
      "selected(c) total_volume(1) total_weight(4)\n",
      "Optimization: -10\n",
      "Answer: 3\n",
      "selected(c) selected(e) total_volume(6) total_weight(5)\n",
      "Optimization: -11\n",
      "Answer: 4\n",
      "selected(b) selected(c) total_volume(11) total_weight(5)\n",
      "Optimization: -12\n",
      "Answer: 5\n",
      "selected(b) selected(c) selected(e) total_volume(16) total_weight(6)\n",
      "Optimization: -13\n",
      "OPTIMUM FOUND\n",
      "\n",
      "Models       : 5\n",
      "  Optimum    : yes\n",
      "Optimization : -13\n",
      "Calls        : 1\n",
      "Time         : 0.001s (Solving: 0.00s 1st Model: 0.00s Unsat: 0.00s)\n",
      "CPU Time     : 0.001s\n"
     ]
    }
   ],
   "source": [
    "!clingo ./instances/knapsack_small.lp ./instances/knapsack.lp 0"
   ]
  },
  {
   "attachments": {},
   "cell_type": "markdown",
   "metadata": {},
   "source": [
    "Large example with $100$ items:"
   ]
  },
  {
   "cell_type": "code",
   "execution_count": 4,
   "metadata": {},
   "outputs": [],
   "source": [
    "import random\n",
    "\n",
    "random.seed(11)\n",
    "\n",
    "N = 100\n",
    "\n",
    "weights = random.choices(range(1,100), k=N)\n",
    "values = random.choices(range(1, 1000), k=N)\n",
    "volumes = random.choices(range(1, 100), k=N)\n",
    "\n",
    "weights_str = \"weight(\"\n",
    "values_str = \"value(\"\n",
    "volumes_str = \"volume(\"\n",
    "\n",
    "for elem, (weight, value, volume) in enumerate(zip(weights, values, volumes)):\n",
    "    prefix = \";\"\n",
    "\n",
    "    if elem == 0:\n",
    "        prefix = \"\"\n",
    "    weights_str += prefix + str(elem) + \",\" + str(weight)\n",
    "    values_str += prefix + str(elem) + \",\" + str(value)\n",
    "    volumes_str += prefix + str(elem) + \",\" + str(volume)\n",
    "\n",
    "weights_str += \").\"\n",
    "values_str += \").\"\n",
    "volumes_str += \").\"\n",
    "\n",
    "f = open(\"./instances/knapsack_large.lp\", \"w\")\n",
    "f.write('\\n'.join([weights_str, values_str, volumes_str]))\n",
    "f.close()\n"
   ]
  },
  {
   "attachments": {},
   "cell_type": "markdown",
   "metadata": {},
   "source": [
    "Solve with constraints:\n",
    "- maxweight = 150\n",
    "- maxvolume = 90"
   ]
  },
  {
   "cell_type": "code",
   "execution_count": 5,
   "metadata": {},
   "outputs": [
    {
     "name": "stdout",
     "output_type": "stream",
     "text": [
      "clingo version 5.6.2\n",
      "Reading from ./instances/knapsack_large.lp ...\n",
      "Solving...\n",
      "Answer: 1\n",
      "selected(14) selected(30) selected(51) selected(56) total_volume(89) total_weight(150)\n",
      "Optimization: -1551\n",
      "Answer: 2\n",
      "selected(31) selected(32) selected(51) selected(56) total_volume(90) total_weight(143)\n",
      "Optimization: -2073\n",
      "Answer: 3\n",
      "selected(31) selected(56) selected(65) selected(88) total_volume(89) total_weight(107)\n",
      "Optimization: -2204\n",
      "Answer: 4\n",
      "selected(31) selected(51) selected(56) selected(88) total_volume(83) total_weight(103)\n",
      "Optimization: -2242\n",
      "Answer: 5\n",
      "selected(51) selected(56) selected(65) selected(88) total_volume(86) total_weight(64)\n",
      "Optimization: -2559\n",
      "Answer: 6\n",
      "selected(51) selected(55) selected(56) selected(88) total_volume(90) total_weight(79)\n",
      "Optimization: -2923\n",
      "Answer: 7\n",
      "selected(33) selected(51) selected(55) selected(56) total_volume(80) total_weight(135)\n",
      "Optimization: -3047\n",
      "Answer: 8\n",
      "selected(8) selected(51) selected(55) selected(56) total_volume(73) total_weight(132)\n",
      "Optimization: -3103\n",
      "Answer: 9\n",
      "selected(8) selected(51) selected(56) selected(71) total_volume(67) total_weight(137)\n",
      "Optimization: -3108\n",
      "Answer: 10\n",
      "selected(51) selected(55) selected(56) selected(71) total_volume(70) total_weight(114)\n",
      "Optimization: -3110\n",
      "Answer: 11\n",
      "selected(51) selected(55) selected(56) selected(65) selected(71) total_volume(90) total_weight(139)\n",
      "Optimization: -3656\n",
      "Answer: 12\n",
      "selected(51) selected(56) selected(57) selected(71) selected(88) total_volume(89) total_weight(147)\n",
      "Optimization: -3890\n",
      "Answer: 13\n",
      "selected(8) selected(51) selected(56) selected(67) selected(71) total_volume(85) total_weight(143)\n",
      "Optimization: -4008\n",
      "Answer: 14\n",
      "selected(51) selected(56) selected(57) selected(67) selected(71) total_volume(69) total_weight(143)\n",
      "Optimization: -4062\n",
      "Answer: 15\n",
      "selected(34) selected(50) selected(51) selected(56) selected(57) selected(67) total_volume(75) total_weight(145)\n",
      "Optimization: -4452\n",
      "Answer: 16\n",
      "selected(50) selected(56) selected(57) selected(65) selected(67) selected(71) total_volume(77) total_weight(148)\n",
      "Optimization: -4715\n",
      "Answer: 17\n",
      "selected(50) selected(51) selected(56) selected(57) selected(67) selected(71) total_volume(71) total_weight(144)\n",
      "Optimization: -4753\n",
      "Answer: 18\n",
      "selected(50) selected(56) selected(57) selected(67) selected(71) selected(95) total_volume(78) total_weight(131)\n",
      "Optimization: -4919\n",
      "Answer: 19\n",
      "selected(43) selected(50) selected(51) selected(56) selected(57) selected(67) selected(95) total_volume(78) total_weight(114)\n",
      "Optimization: -4957\n",
      "Answer: 20\n",
      "selected(42) selected(43) selected(50) selected(51) selected(56) selected(57) selected(67) selected(95) total_volume(86) total_weight(143)\n",
      "Optimization: -5134\n",
      "Answer: 21\n",
      "selected(43) selected(50) selected(55) selected(56) selected(57) selected(67) selected(95) total_volume(88) total_weight(133)\n",
      "Optimization: -5283\n",
      "Answer: 22\n",
      "selected(43) selected(50) selected(56) selected(57) selected(67) selected(71) selected(95) total_volume(82) total_weight(138)\n",
      "Optimization: -5288\n",
      "Answer: 23\n",
      "selected(5) selected(21) selected(43) selected(50) selected(56) selected(57) selected(67) total_volume(84) total_weight(146)\n",
      "Optimization: -5451\n",
      "OPTIMUM FOUND\n",
      "\n",
      "Models       : 23\n",
      "  Optimum    : yes\n",
      "Optimization : -5451\n",
      "Calls        : 1\n",
      "Time         : 8.410s (Solving: 3.28s 1st Model: 0.05s Unsat: 0.77s)\n",
      "CPU Time     : 8.409s\n"
     ]
    }
   ],
   "source": [
    "!clingo ./instances/knapsack_large.lp ./instances/knapsack.lp -c maxweight=150 -c maxvolume=90"
   ]
  }
 ],
 "metadata": {
  "kernelspec": {
   "display_name": "potassco",
   "language": "python",
   "name": "python3"
  },
  "language_info": {
   "codemirror_mode": {
    "name": "ipython",
    "version": 3
   },
   "file_extension": ".py",
   "mimetype": "text/x-python",
   "name": "python",
   "nbconvert_exporter": "python",
   "pygments_lexer": "ipython3",
   "version": "3.11.3"
  },
  "orig_nbformat": 4
 },
 "nbformat": 4,
 "nbformat_minor": 2
}
