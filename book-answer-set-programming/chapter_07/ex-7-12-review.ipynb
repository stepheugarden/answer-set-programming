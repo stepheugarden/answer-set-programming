{
 "cells": [
  {
   "attachments": {},
   "cell_type": "markdown",
   "metadata": {},
   "source": [
    "# Research review\n",
    "\n",
    "Problem: Papers to be presented at a conference are reviewed by experts who decide if the paper will be accepted. We want to automate this process s.t.:\n",
    "\n",
    "- papers are reviewed by at least two experts\n",
    "- experts can bid on papers:\n",
    "  - *yes* = the expert would like to review the paper\n",
    "  - *maybe* = the expert has no strong preference for this paper\n",
    "  - *no* = the expert does not want to review the paper\n",
    "- the workload (assigned papers) of each expert should be approximately be equal, i.e. not differ more than 1\n",
    "- if an expert bids *no* then this paper will not be assigned to this expert\n",
    "- the number of *yes* votes from experts assigned to a paper should be maximized, i.e. if possible we are respecting the bid of the experts"
   ]
  },
  {
   "cell_type": "code",
   "execution_count": 1,
   "metadata": {},
   "outputs": [
    {
     "name": "stdout",
     "output_type": "stream",
     "text": [
      "Overwriting ./instances/review_input.lp\n"
     ]
    }
   ],
   "source": [
    "%%file ./instances/review_input.lp\n",
    "\n",
    "expert(a;b;c;d;e).\n",
    "paper(p1;p2;p3;p4;p5;p6;p7;p8;p9).\n",
    "bid(\n",
    "    a,p1,yes; a,p2,yes; a,p3,maybe; a,p4,maybe; a,p5,yes; a,p6,no; a,p7,no; a,p8,no; a,p9,yes;\n",
    "    b,p1,yes; b,p2,yes; b,p3,no; b,p4,no; b,p5,maybe; b,p6,no; b,p7,yes; b,p8,maybe; b,p9,no;\n",
    "    c,p1,no; c,p2,no; c,p3,yes; c,p4,no; c,p5,yes; c,p6,no; c,p7,no; c,p8,no; c,p9,yes;\n",
    "    d,p1,no; d,p2,no; d,p3,yes; d,p4,yes; d,p5,yes; d,p6,maybe; d,p7,maybe; d,p8,no; d,p9,maybe;\n",
    "    e,p1,yes; e,p2,no; e,p3,maybe; e,p4,no; e,p5,maybe; e,p6,yes; e,p7,no; e,p8,yes; e,p9,no;\n",
    ")."
   ]
  },
  {
   "attachments": {},
   "cell_type": "markdown",
   "metadata": {},
   "source": [
    "Solver:"
   ]
  },
  {
   "cell_type": "code",
   "execution_count": 2,
   "metadata": {},
   "outputs": [
    {
     "name": "stdout",
     "output_type": "stream",
     "text": [
      "Overwriting ./instances/review.lp\n"
     ]
    }
   ],
   "source": [
    "%%file ./instances/review.lp\n",
    "\n",
    "#const min_reviewer = 2.\n",
    "\n",
    "% assign papers\n",
    "{assigned(P,E): expert(E)} >= min_reviewer :- paper(P).\n",
    "\n",
    "% no assignment if expert said no\n",
    ":- assigned(P,E), bid(E,P,no).\n",
    "\n",
    "% workload balanced\n",
    "work(E,N) :- N = #count{P: assigned(P,E)}, expert(E).\n",
    ":- work(E1,N1), work(E2,N2), E1 != E2, |N1-N2|>1.\n",
    "\n",
    "% maximize yes\n",
    "#maximize{1,P,E: assigned(P,E), bid(E,P,yes)}.\n",
    "\n",
    "#show assigned/2.\n"
   ]
  },
  {
   "cell_type": "code",
   "execution_count": 3,
   "metadata": {},
   "outputs": [
    {
     "name": "stdout",
     "output_type": "stream",
     "text": [
      "clingo version 5.6.2\n",
      "Reading from ./instances/review_input.lp ...\n",
      "Solving...\n",
      "Answer: 1\n",
      "assigned(p2,a) assigned(p3,a) assigned(p4,a) assigned(p9,a) assigned(p1,b) assigned(p2,b) assigned(p7,b) assigned(p8,b) assigned(p3,c) assigned(p5,c) assigned(p9,c) assigned(p4,d) assigned(p6,d) assigned(p7,d) assigned(p9,d) assigned(p1,e) assigned(p5,e) assigned(p6,e) assigned(p8,e)\n",
      "Optimization: -12\n",
      "Answer: 2\n",
      "assigned(p2,a) assigned(p3,a) assigned(p4,a) assigned(p9,a) assigned(p1,b) assigned(p2,b) assigned(p7,b) assigned(p8,b) assigned(p3,c) assigned(p5,c) assigned(p9,c) assigned(p3,d) assigned(p4,d) assigned(p6,d) assigned(p7,d) assigned(p1,e) assigned(p5,e) assigned(p6,e) assigned(p8,e)\n",
      "Optimization: -13\n",
      "Answer: 3\n",
      "assigned(p1,a) assigned(p2,a) assigned(p4,a) assigned(p9,a) assigned(p1,b) assigned(p2,b) assigned(p7,b) assigned(p8,b) assigned(p3,c) assigned(p5,c) assigned(p9,c) assigned(p3,d) assigned(p4,d) assigned(p6,d) assigned(p7,d) assigned(p1,e) assigned(p5,e) assigned(p6,e) assigned(p8,e)\n",
      "Optimization: -14\n",
      "OPTIMUM FOUND\n",
      "\n",
      "Models       : 3\n",
      "  Optimum    : yes\n",
      "Optimization : -14\n",
      "Calls        : 1\n",
      "Time         : 0.002s (Solving: 0.00s 1st Model: 0.00s Unsat: 0.00s)\n",
      "CPU Time     : 0.002s\n"
     ]
    }
   ],
   "source": [
    "!clingo ./instances/review_input.lp ./instances/review.lp 0"
   ]
  },
  {
   "attachments": {},
   "cell_type": "markdown",
   "metadata": {},
   "source": [
    "The optimal assignement results in 14 *yes*:"
   ]
  },
  {
   "attachments": {},
   "cell_type": "markdown",
   "metadata": {},
   "source": [
    "- p1: a, b , e\n",
    "- p2: a, b\n",
    "- p3: c, d\n",
    "- p4: a, d\n",
    "- p5: c, e\n",
    "- p6: d, e\n",
    "- p7: b, d\n",
    "- p8: b, e\n",
    "- p9: a, c"
   ]
  }
 ],
 "metadata": {
  "kernelspec": {
   "display_name": "potassco",
   "language": "python",
   "name": "python3"
  },
  "language_info": {
   "codemirror_mode": {
    "name": "ipython",
    "version": 3
   },
   "file_extension": ".py",
   "mimetype": "text/x-python",
   "name": "python",
   "nbconvert_exporter": "python",
   "pygments_lexer": "ipython3",
   "version": "3.11.3"
  },
  "orig_nbformat": 4
 },
 "nbformat": 4,
 "nbformat_minor": 2
}
