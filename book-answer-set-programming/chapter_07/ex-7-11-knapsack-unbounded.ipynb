{
 "cells": [
  {
   "attachments": {},
   "cell_type": "markdown",
   "metadata": {},
   "source": [
    "# Unbounded Knapsack\n",
    "\n",
    "Given item-value pairs we want to maximize the value s.t. the selected weights are not exceeding a predefined.\n",
    "\n",
    "In this version of the knapsack problem we want to additionally restrict the volume of the selected items. That means we are given:\n",
    "- $w_i:$ weight of item $i$\n",
    "- $v_i:$ value of item $i$\n",
    "- $vol_i:$ volume of item $i$\n",
    "\n",
    "**Here are repetitions of items allowed.**"
   ]
  },
  {
   "cell_type": "code",
   "execution_count": 1,
   "metadata": {},
   "outputs": [
    {
     "name": "stdout",
     "output_type": "stream",
     "text": [
      "Overwriting ./instances/knapsack_small.lp\n"
     ]
    }
   ],
   "source": [
    "%%file ./instances/knapsack_small.lp\n",
    "\n",
    "weight(a,12; b,1; c,4; d,2; e,1).\n",
    "value(a,4; b,2; c,10; d,2; e,1).\n",
    "volume(a,4; b,10; c,1; d,33; e,5)."
   ]
  },
  {
   "attachments": {},
   "cell_type": "markdown",
   "metadata": {},
   "source": [
    "Solver:\n",
    "\n",
    "- maxweight: defaults to 15. The weights must not exceed this value\n",
    "- maxvolume: defaults to 21. The volumes must not exceed this value"
   ]
  },
  {
   "cell_type": "code",
   "execution_count": 2,
   "metadata": {},
   "outputs": [
    {
     "name": "stdout",
     "output_type": "stream",
     "text": [
      "Overwriting ./instances/knapsack_unbounded.lp\n"
     ]
    }
   ],
   "source": [
    "%%file ./instances/knapsack_unbounded.lp\n",
    "\n",
    "#const maxweight=15.\n",
    "#const maxvolume=21.\n",
    "\n",
    "n(I, maxweight/W) :- weight(I,W).\n",
    "\n",
    "% select items\n",
    "{selected(I,N)} <= N:- weight(I,_), n(I,N).\n",
    "\n",
    "%% weight restriction\n",
    "total_weight(S) :- S = #sum{N*W,I: weight(I,W), selected(I,N)}.\n",
    ":- S > maxweight, total_weight(S).\n",
    "\n",
    "% volumne restriction\n",
    "total_volume(S) :- S = #sum{N*V,I: volume(I,V), selected(I,N)}.\n",
    ":- S > maxvolume, total_volume(S).\n",
    "\n",
    "% maximize value\n",
    "#maximize{N*V,I: value(I,V), selected(I,N)}.\n",
    "\n",
    "#show selected/2.\n",
    "#show total_weight/1.\n",
    "#show total_volume/1.\n",
    "#show n/2."
   ]
  },
  {
   "cell_type": "code",
   "execution_count": 3,
   "metadata": {},
   "outputs": [
    {
     "name": "stdout",
     "output_type": "stream",
     "text": [
      "clingo version 5.6.2\n",
      "Reading from ./instances/knapsack_small.lp ...\n",
      "Solving...\n",
      "Answer: 1\n",
      "n(a,1) n(b,15) n(c,3) n(d,7) n(e,15) total_volume(0) total_weight(0)\n",
      "Optimization: 0\n",
      "Answer: 2\n",
      "n(a,1) n(b,15) n(c,3) n(d,7) n(e,15) selected(c,3) total_volume(3) total_weight(12)\n",
      "Optimization: -30\n",
      "OPTIMUM FOUND\n",
      "\n",
      "Models       : 2\n",
      "  Optimum    : yes\n",
      "Optimization : -30\n",
      "Calls        : 1\n",
      "Time         : 0.001s (Solving: 0.00s 1st Model: 0.00s Unsat: 0.00s)\n",
      "CPU Time     : 0.001s\n"
     ]
    }
   ],
   "source": [
    "!clingo ./instances/knapsack_small.lp ./instances/knapsack_unbounded.lp 0"
   ]
  },
  {
   "attachments": {},
   "cell_type": "markdown",
   "metadata": {},
   "source": [
    "Large example with $100$ items:"
   ]
  },
  {
   "cell_type": "code",
   "execution_count": 4,
   "metadata": {},
   "outputs": [],
   "source": [
    "import random\n",
    "\n",
    "random.seed(11)\n",
    "\n",
    "N = 100\n",
    "\n",
    "weights = random.choices(range(1,100), k=N)\n",
    "values = random.choices(range(1, 1000), k=N)\n",
    "volumes = random.choices(range(1, 100), k=N)\n",
    "\n",
    "weights_str = \"weight(\"\n",
    "values_str = \"value(\"\n",
    "volumes_str = \"volume(\"\n",
    "\n",
    "for elem, (weight, value, volume) in enumerate(zip(weights, values, volumes)):\n",
    "    prefix = \";\"\n",
    "\n",
    "    if elem == 0:\n",
    "        prefix = \"\"\n",
    "    weights_str += prefix + str(elem) + \",\" + str(weight)\n",
    "    values_str += prefix + str(elem) + \",\" + str(value)\n",
    "    volumes_str += prefix + str(elem) + \",\" + str(volume)\n",
    "\n",
    "weights_str += \").\"\n",
    "values_str += \").\"\n",
    "volumes_str += \").\"\n",
    "\n",
    "f = open(\"./instances/knapsack_large.lp\", \"w\")\n",
    "f.write('\\n'.join([weights_str, values_str, volumes_str]))\n",
    "f.close()\n"
   ]
  },
  {
   "attachments": {},
   "cell_type": "markdown",
   "metadata": {},
   "source": [
    "Solve with constraints:\n",
    "- maxweight = 150\n",
    "- maxvolume = 90\n",
    "\n",
    "The search space is much larger. Therefore it takes longer and the otpimized value is larger (or equal) compared to the exercise 07-10."
   ]
  },
  {
   "cell_type": "code",
   "execution_count": 5,
   "metadata": {},
   "outputs": [
    {
     "name": "stdout",
     "output_type": "stream",
     "text": [
      "clingo version 5.6.2\n",
      "Reading from ./instances/knapsack_large.lp ...\n",
      "Solving...\n",
      "Answer: 1\n",
      "n(0,3) n(1,2) n(2,1) n(3,3) n(4,2) n(5,2) n(6,7) n(7,2) n(8,2) n(9,1) n(10,15) n(11,4) n(12,16) n(13,1) n(14,2) n(15,30) n(16,1) n(17,1) n(18,2) n(19,2) n(20,9) n(21,75) n(22,2) n(23,25) n(24,7) n(25,6) n(26,50) n(27,3) n(28,3) n(29,1) n(30,2) n(31,2) n(32,3) n(33,2) n(34,3) n(35,5) n(36,1) n(37,1) n(38,1) n(39,2) n(40,4) n(41,6) n(42,5) n(43,21) n(44,1) n(45,3) n(46,1) n(47,3) n(48,1) n(49,1) n(50,150) n(51,7) n(52,1) n(53,3) n(54,1) n(55,3) n(56,18) n(57,2) n(58,1) n(59,5) n(60,16) n(61,4) n(62,1) n(63,1) n(64,12) n(65,6) n(66,13) n(67,25) n(68,1) n(69,8) n(70,2) n(71,3) n(72,7) n(73,2) n(74,11) n(75,2) n(76,12) n(77,3) n(78,6) n(79,5) n(80,1) n(81,1) n(82,4) n(83,1) n(84,7) n(85,3) n(86,1) n(87,2) n(88,15) n(89,1) n(90,6) n(91,5) n(92,1) n(93,4) n(94,5) n(95,18) n(96,16) n(97,2) n(98,6) n(99,2) total_volume(0) total_weight(0)\n",
      "Optimization: 0\n",
      "Answer: 2\n",
      "n(0,3) n(1,2) n(2,1) n(3,3) n(4,2) n(5,2) n(6,7) n(7,2) n(8,2) n(9,1) n(10,15) n(11,4) n(12,16) n(13,1) n(14,2) n(15,30) n(16,1) n(17,1) n(18,2) n(19,2) n(20,9) n(21,75) n(22,2) n(23,25) n(24,7) n(25,6) n(26,50) n(27,3) n(28,3) n(29,1) n(30,2) n(31,2) n(32,3) n(33,2) n(34,3) n(35,5) n(36,1) n(37,1) n(38,1) n(39,2) n(40,4) n(41,6) n(42,5) n(43,21) n(44,1) n(45,3) n(46,1) n(47,3) n(48,1) n(49,1) n(50,150) n(51,7) n(52,1) n(53,3) n(54,1) n(55,3) n(56,18) n(57,2) n(58,1) n(59,5) n(60,16) n(61,4) n(62,1) n(63,1) n(64,12) n(65,6) n(66,13) n(67,25) n(68,1) n(69,8) n(70,2) n(71,3) n(72,7) n(73,2) n(74,11) n(75,2) n(76,12) n(77,3) n(78,6) n(79,5) n(80,1) n(81,1) n(82,4) n(83,1) n(84,7) n(85,3) n(86,1) n(87,2) n(88,15) n(89,1) n(90,6) n(91,5) n(92,1) n(93,4) n(94,5) n(95,18) n(96,16) n(97,2) n(98,6) n(99,2) selected(62,1) total_volume(80) total_weight(96)\n",
      "Optimization: -319\n",
      "Answer: 3\n",
      "n(0,3) n(1,2) n(2,1) n(3,3) n(4,2) n(5,2) n(6,7) n(7,2) n(8,2) n(9,1) n(10,15) n(11,4) n(12,16) n(13,1) n(14,2) n(15,30) n(16,1) n(17,1) n(18,2) n(19,2) n(20,9) n(21,75) n(22,2) n(23,25) n(24,7) n(25,6) n(26,50) n(27,3) n(28,3) n(29,1) n(30,2) n(31,2) n(32,3) n(33,2) n(34,3) n(35,5) n(36,1) n(37,1) n(38,1) n(39,2) n(40,4) n(41,6) n(42,5) n(43,21) n(44,1) n(45,3) n(46,1) n(47,3) n(48,1) n(49,1) n(50,150) n(51,7) n(52,1) n(53,3) n(54,1) n(55,3) n(56,18) n(57,2) n(58,1) n(59,5) n(60,16) n(61,4) n(62,1) n(63,1) n(64,12) n(65,6) n(66,13) n(67,25) n(68,1) n(69,8) n(70,2) n(71,3) n(72,7) n(73,2) n(74,11) n(75,2) n(76,12) n(77,3) n(78,6) n(79,5) n(80,1) n(81,1) n(82,4) n(83,1) n(84,7) n(85,3) n(86,1) n(87,2) n(88,15) n(89,1) n(90,6) n(91,5) n(92,1) n(93,4) n(94,5) n(95,18) n(96,16) n(97,2) n(98,6) n(99,2) selected(57,2) total_volume(10) total_weight(126)\n",
      "Optimization: -1924\n",
      "Answer: 4\n",
      "n(0,3) n(1,2) n(2,1) n(3,3) n(4,2) n(5,2) n(6,7) n(7,2) n(8,2) n(9,1) n(10,15) n(11,4) n(12,16) n(13,1) n(14,2) n(15,30) n(16,1) n(17,1) n(18,2) n(19,2) n(20,9) n(21,75) n(22,2) n(23,25) n(24,7) n(25,6) n(26,50) n(27,3) n(28,3) n(29,1) n(30,2) n(31,2) n(32,3) n(33,2) n(34,3) n(35,5) n(36,1) n(37,1) n(38,1) n(39,2) n(40,4) n(41,6) n(42,5) n(43,21) n(44,1) n(45,3) n(46,1) n(47,3) n(48,1) n(49,1) n(50,150) n(51,7) n(52,1) n(53,3) n(54,1) n(55,3) n(56,18) n(57,2) n(58,1) n(59,5) n(60,16) n(61,4) n(62,1) n(63,1) n(64,12) n(65,6) n(66,13) n(67,25) n(68,1) n(69,8) n(70,2) n(71,3) n(72,7) n(73,2) n(74,11) n(75,2) n(76,12) n(77,3) n(78,6) n(79,5) n(80,1) n(81,1) n(82,4) n(83,1) n(84,7) n(85,3) n(86,1) n(87,2) n(88,15) n(89,1) n(90,6) n(91,5) n(92,1) n(93,4) n(94,5) n(95,18) n(96,16) n(97,2) n(98,6) n(99,2) selected(55,3) total_volume(72) total_weight(120)\n",
      "Optimization: -2730\n",
      "Answer: 5\n",
      "n(0,3) n(1,2) n(2,1) n(3,3) n(4,2) n(5,2) n(6,7) n(7,2) n(8,2) n(9,1) n(10,15) n(11,4) n(12,16) n(13,1) n(14,2) n(15,30) n(16,1) n(17,1) n(18,2) n(19,2) n(20,9) n(21,75) n(22,2) n(23,25) n(24,7) n(25,6) n(26,50) n(27,3) n(28,3) n(29,1) n(30,2) n(31,2) n(32,3) n(33,2) n(34,3) n(35,5) n(36,1) n(37,1) n(38,1) n(39,2) n(40,4) n(41,6) n(42,5) n(43,21) n(44,1) n(45,3) n(46,1) n(47,3) n(48,1) n(49,1) n(50,150) n(51,7) n(52,1) n(53,3) n(54,1) n(55,3) n(56,18) n(57,2) n(58,1) n(59,5) n(60,16) n(61,4) n(62,1) n(63,1) n(64,12) n(65,6) n(66,13) n(67,25) n(68,1) n(69,8) n(70,2) n(71,3) n(72,7) n(73,2) n(74,11) n(75,2) n(76,12) n(77,3) n(78,6) n(79,5) n(80,1) n(81,1) n(82,4) n(83,1) n(84,7) n(85,3) n(86,1) n(87,2) n(88,15) n(89,1) n(90,6) n(91,5) n(92,1) n(93,4) n(94,5) n(95,18) n(96,16) n(97,2) n(98,6) n(99,2) selected(43,21) total_volume(84) total_weight(147)\n",
      "Optimization: -7749\n",
      "OPTIMUM FOUND\n",
      "\n",
      "Models       : 5\n",
      "  Optimum    : yes\n",
      "Optimization : -7749\n",
      "Calls        : 1\n",
      "Time         : 153.947s (Solving: 111.51s 1st Model: 111.32s Unsat: 0.09s)\n",
      "CPU Time     : 153.941s\n"
     ]
    }
   ],
   "source": [
    "!clingo ./instances/knapsack_large.lp ./instances/knapsack_unbounded.lp -c maxweight=150 -c maxvolume=90"
   ]
  }
 ],
 "metadata": {
  "kernelspec": {
   "display_name": "potassco",
   "language": "python",
   "name": "python3"
  },
  "language_info": {
   "codemirror_mode": {
    "name": "ipython",
    "version": 3
   },
   "file_extension": ".py",
   "mimetype": "text/x-python",
   "name": "python",
   "nbconvert_exporter": "python",
   "pygments_lexer": "ipython3",
   "version": "3.11.3"
  },
  "orig_nbformat": 4
 },
 "nbformat": 4,
 "nbformat_minor": 2
}
