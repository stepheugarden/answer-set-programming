{
 "cells": [
  {
   "attachments": {},
   "cell_type": "markdown",
   "metadata": {},
   "source": [
    "# Block world simulation\n",
    "\n",
    "We are given nine blocks on a table as so:\n",
    "\n",
    "1 \\\n",
    "2 5 \\\n",
    "3 6 8 \\\n",
    "4 7 9 \n",
    "\n",
    "here 4, 7, 9 are on the table. The table is very wide thus there is enough room to place all blocks on the table. We have to move the blocks such that we observe this pile:\n",
    "\n",
    "9\\\n",
    "6\\\n",
    "3\n",
    "\n",
    "where 3 is on the table.\n",
    "\n",
    "Rules:\n",
    "- a block can only be moved iff it is not blocked (i.e. you can move 1,5,8 above but not e.g. 7)\n",
    "\n",
    "We want to achieve this in a minimal number of steps.\n",
    "\n",
    "Input data:"
   ]
  },
  {
   "cell_type": "code",
   "execution_count": 1,
   "metadata": {},
   "outputs": [
    {
     "name": "stdout",
     "output_type": "stream",
     "text": [
      "Overwriting ./instances/block_simulation_input.lp\n"
     ]
    }
   ],
   "source": [
    "%%file ./instances/block_simulation_input.lp\n",
    "\n",
    "block(1..9).\n",
    "init(\n",
    "    loc(1,2); loc(2,3); loc(3,4); loc(4,table);\n",
    "    loc(5,6); loc(6,7); loc(7,table);\n",
    "    loc(8,9); loc(9,table)\n",
    ").\n",
    "\n",
    "final(\n",
    "    loc(9,6); loc(6,3); loc(3,table)\n",
    ").\n",
    "\n",
    "#const horizon=10."
   ]
  },
  {
   "attachments": {},
   "cell_type": "markdown",
   "metadata": {},
   "source": [
    "Solver:"
   ]
  },
  {
   "cell_type": "code",
   "execution_count": 2,
   "metadata": {},
   "outputs": [
    {
     "name": "stdout",
     "output_type": "stream",
     "text": [
      "Overwriting ./instances/block_simulation.lp\n"
     ]
    }
   ],
   "source": [
    "%%file ./instances/block_simulation.lp\n",
    "\n",
    "%initial state at T=0\n",
    "holds(L,T) :- init(L), T=0.\n",
    "\n",
    "% all potential moves (legal and illegal)\n",
    "action(move(B1,B2)) :- block(B1), block(B2), B1!=B2.\n",
    "action(move(B,table)) :- block(B).\n",
    "{occurs(A,T): action(A)} = 1 :- T=0..(horizon-1).\n",
    "\n",
    "% apply actions\n",
    "holds(loc(B,L),T+1) :- occurs(move(B,L), T).\n",
    "\n",
    "% only one block can be on top of an other\n",
    "Top1=Top2 :- holds(loc(Top1, Bottom), T), holds(loc(Top2, Bottom), T), block(Bottom).\n",
    "\n",
    "% you can only move unblocked blocks\n",
    ":- occurs(move(B,L),T), holds(loc(_,B),T).\n",
    "\n",
    "% cannot move to same location\n",
    ":- occurs(move(B,L),T), holds(loc(B,L),T).\n",
    "\n",
    "% block can only be at one place\n",
    ":- #count{L : holds(loc(B,L),T)} != 1, block(B), T=0..horizon.\n",
    "\n",
    "% inertia: blocks stay where they are when not moved\n",
    "{holds(loc(B,L),T+1)} :- holds(loc(B,L),T), T=0..horizon-1.\n",
    "\n",
    "% find minimum number of actions\n",
    "satisfied(F,T) :- holds(F,T), final(F).\n",
    "nb_sat(C1,T) :- C1=#count{F: satisfied(F,T)}, T=0..horizon.\n",
    "nb_fin(C2) :- C2=#count{F: final(F)}.\n",
    "solved(T) :- nb_sat(C1,T), nb_fin(C2), C1=C2.\n",
    ":- not solved(_).\n",
    "\n",
    "#minimize{T: solved(T)}.\n",
    "\n",
    "% print strategy\n",
    "strategy(A,T) :- occurs(A,T), T<T_solved, solved(T_solved).\n",
    "#show strategy/2."
   ]
  },
  {
   "attachments": {},
   "cell_type": "markdown",
   "metadata": {},
   "source": [
    "Below the strategy to achieve the target state is shown. We could also use ASP to solve for every such solution. The finale state is achieved in 7 steps:\n",
    "1. move 1 on the table\n",
    "2. move 8 on to 1\n",
    "3. move 5 on to 8\n",
    "4. move 2 on the table\n",
    "5. move 3 on the table\n",
    "6. move 6 on to 3\n",
    "7. move 9 on to 6 which is the final state"
   ]
  },
  {
   "cell_type": "code",
   "execution_count": 3,
   "metadata": {},
   "outputs": [
    {
     "name": "stdout",
     "output_type": "stream",
     "text": [
      "clingo version 5.6.2\n",
      "Reading from ./instances/block_simulation_input.lp ...\n",
      "Solving...\n",
      "Answer: 1\n",
      "strategy(move(5,8),0) strategy(move(1,table),1) strategy(move(6,table),2) strategy(move(6,1),3) strategy(move(2,7),4) strategy(move(3,table),5) strategy(move(6,3),6) strategy(move(5,table),7) strategy(move(8,5),8) strategy(move(9,6),9)\n",
      "Optimization: 10\n",
      "Answer: 2\n",
      "strategy(move(5,table),0) strategy(move(8,5),1) strategy(move(1,9),2) strategy(move(2,8),3) strategy(move(3,table),4) strategy(move(6,3),5) strategy(move(1,2),6) strategy(move(9,6),7)\n",
      "Optimization: 8\n",
      "Answer: 3\n",
      "strategy(move(1,table),0) strategy(move(8,1),1) strategy(move(5,8),2) strategy(move(2,table),3) strategy(move(3,table),4) strategy(move(6,3),5) strategy(move(9,6),6)\n",
      "Optimization: 7\n",
      "OPTIMUM FOUND\n",
      "\n",
      "Models       : 3\n",
      "  Optimum    : yes\n",
      "Optimization : 7\n",
      "Calls        : 1\n",
      "Time         : 0.031s (Solving: 0.01s 1st Model: 0.00s Unsat: 0.00s)\n",
      "CPU Time     : 0.031s\n"
     ]
    }
   ],
   "source": [
    "!clingo ./instances/block_simulation_input.lp ./instances/block_simulation.lp"
   ]
  }
 ],
 "metadata": {
  "kernelspec": {
   "display_name": "potassco",
   "language": "python",
   "name": "python3"
  },
  "language_info": {
   "codemirror_mode": {
    "name": "ipython",
    "version": 3
   },
   "file_extension": ".py",
   "mimetype": "text/x-python",
   "name": "python",
   "nbconvert_exporter": "python",
   "pygments_lexer": "ipython3",
   "version": "3.11.3"
  },
  "orig_nbformat": 4
 },
 "nbformat": 4,
 "nbformat_minor": 2
}
