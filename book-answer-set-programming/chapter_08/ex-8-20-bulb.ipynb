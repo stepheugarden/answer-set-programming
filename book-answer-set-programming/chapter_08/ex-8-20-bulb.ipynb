{
 "cells": [
  {
   "attachments": {},
   "cell_type": "markdown",
   "metadata": {},
   "source": [
    "# Pull bulbs\n",
    "\n",
    "You have a couple of bulbs that can have 4 levels of brightness: *off*, *light*, *medium* and *high*. When you pull the cord the brightness increases before the bulb is turned of again\n",
    "\n",
    "Here the state diagram for one bulb:\n",
    "\n",
    "```mermaid\n",
    "stateDiagram-v2\n",
    "    off --> light:pull\n",
    "    light --> medium:pull\n",
    "    medium --> high:pull\n",
    "    high --> off:pull\n",
    "```\n",
    "\n",
    "\n",
    "\n",
    "Initially:\n",
    "- 10 bulbs given\n",
    "- all of them are in the *high* state \n",
    "\n",
    "Actions:\n",
    "- pull one after the other\n",
    "\n",
    "Build a program that executes these actions."
   ]
  },
  {
   "cell_type": "code",
   "execution_count": 10,
   "metadata": {},
   "outputs": [
    {
     "name": "stdout",
     "output_type": "stream",
     "text": [
      "Overwriting ./instances/bulb.lp\n"
     ]
    }
   ],
   "source": [
    "%%file ./instances/bulb.lp\n",
    "\n",
    "% horizon\n",
    "#const h=10.\n",
    "#const n=10.\n",
    "\n",
    "brightness(0,off; 1,light; 2,medium; 3,high).\n",
    "\n",
    "% initial states\n",
    "init(bulb(I, 3), 0) :- I=1..n.\n",
    "holds(B,T) :- init(B,T).\n",
    "\n",
    "% occurs\n",
    "occurs(pull(I), I-1) :- I=1..h.\n",
    "\n",
    "% actions\n",
    "holds(bulb(I, (B+1)\\4), T+1) :- holds(bulb(I,B),T), occurs(pull(I),T), T=0..h-1.\n",
    "\n",
    "% inertia\n",
    "{holds(B,T+1)} :- holds(B,T), T=0..h-1.\n",
    "\n",
    "% uniqueness\n",
    ":- #count{B: holds(bulb(I,B),T)} != 1, T=0..h, I=1..n.\n",
    "\n",
    "final(Bulb, Brightness) :- holds(bulb(Bulb, I), h), brightness(I, Brightness), Bulb=1..n.\n",
    "\n",
    "#show final/2."
   ]
  },
  {
   "attachments": {},
   "cell_type": "markdown",
   "metadata": {},
   "source": [
    "Run the program and show final state:"
   ]
  },
  {
   "cell_type": "code",
   "execution_count": 11,
   "metadata": {},
   "outputs": [
    {
     "name": "stdout",
     "output_type": "stream",
     "text": [
      "clingo version 5.6.2\n",
      "Reading from ./instances/bulb.lp\n",
      "Solving...\n",
      "Answer: 1\n",
      "final(1,off) final(2,off) final(3,off) final(4,off) final(5,off) final(6,off) final(7,off) final(8,off) final(9,off) final(10,off)\n",
      "SATISFIABLE\n",
      "\n",
      "Models       : 1\n",
      "Calls        : 1\n",
      "Time         : 0.002s (Solving: 0.00s 1st Model: 0.00s Unsat: 0.00s)\n",
      "CPU Time     : 0.002s\n"
     ]
    }
   ],
   "source": [
    "!clingo ./instances/bulb.lp 10"
   ]
  }
 ],
 "metadata": {
  "kernelspec": {
   "display_name": "potassco",
   "language": "python",
   "name": "python3"
  },
  "language_info": {
   "codemirror_mode": {
    "name": "ipython",
    "version": 3
   },
   "file_extension": ".py",
   "mimetype": "text/x-python",
   "name": "python",
   "nbconvert_exporter": "python",
   "pygments_lexer": "ipython3",
   "version": "3.11.3"
  },
  "orig_nbformat": 4
 },
 "nbformat": 4,
 "nbformat_minor": 2
}
