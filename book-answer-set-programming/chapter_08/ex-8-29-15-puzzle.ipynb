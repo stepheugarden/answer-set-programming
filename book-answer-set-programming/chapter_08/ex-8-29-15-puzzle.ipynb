{
 "cells": [
  {
   "attachments": {},
   "cell_type": "markdown",
   "metadata": {},
   "source": [
    "## 15 Puzzle\n",
    "\n",
    "Solve the following puzzle in the minimal number of steps:\n",
    "\n",
    "\n",
    "| 3 | 6 | 9 | 12|\n",
    "|---|---|---|---|\n",
    "| 4 | 13| 10| 7 |\n",
    "|   | 5 | 8 | 14|\n",
    "| 15| 1 | 11| 2 |\n",
    "\n",
    "such that it is in the following state:\n",
    "\n",
    "| 1 | 2 | 3 | 4|\n",
    "|---|---|---|---|\n",
    "| 5 | 6| 7| 8 |\n",
    "| 9 | 10 | 11 | 12|\n",
    "| 13| 14 | 15|  |\n",
    "\n",
    "Rules:\n",
    "- you can only move numbers that are adjecent to the blank space, i.e. 4,5 and 15 in the initial state. "
   ]
  },
  {
   "cell_type": "code",
   "execution_count": 1,
   "metadata": {},
   "outputs": [
    {
     "name": "stdout",
     "output_type": "stream",
     "text": [
      "Overwriting ./instances/puzzle_input.lp\n"
     ]
    }
   ],
   "source": [
    "%%file ./instances/puzzle_input.lp\n",
    "\n",
    "coord((1..4, 1..4)).\n",
    "elements(1..15).\n",
    "elements(blank).\n",
    "init(\n",
    "    loc(1,1,3); loc(1,2,6); loc(1,3,9); loc(1,4,12);\n",
    "    loc(2,1,4); loc(2,2,13); loc(2,3,10); loc(2,4,7);\n",
    "    loc(3,1,blank); loc(3,2,5); loc(3,3,8); loc(3,4,14);\n",
    "    loc(4,1,15); loc(4,2,1); loc(4,3,11); loc(4,4,2);\n",
    ").\n",
    "\n",
    "final(\n",
    "    loc(1,1,1); loc(1,2,2); loc(1,3,3); loc(1,4,4);\n",
    "    loc(2,1,5); loc(2,2,6); loc(2,3,7); loc(2,4,8);\n",
    "    loc(3,1,9); loc(3,2,10); loc(3,3,11); loc(3,4,12);\n",
    "    loc(4,1,13); loc(4,2,14); loc(4,3,15); loc(4,4,blank);\n",
    ").\n",
    "\n",
    "#const horizon=60."
   ]
  },
  {
   "attachments": {},
   "cell_type": "markdown",
   "metadata": {},
   "source": [
    "Solver:\n",
    "- takes too much time"
   ]
  },
  {
   "cell_type": "code",
   "execution_count": 2,
   "metadata": {},
   "outputs": [
    {
     "name": "stdout",
     "output_type": "stream",
     "text": [
      "Overwriting ./instances/puzzle.lp\n"
     ]
    }
   ],
   "source": [
    "%%file ./instances/puzzle.lp\n",
    "\n",
    "% inital state\n",
    "holds(L,T) :- init(L), T=0.\n",
    "\n",
    "% actions\n",
    "action(move((XF,YF), (XT,YT))) :- coord((XF,YF)), coord((XT,YT)), |XF-XT|+|YF-YT|=1.\n",
    "action(wait).\n",
    "\n",
    "% apply actions\n",
    "{occurs(A, T): action(A)} = 1 :- T=1..horizon-1.\n",
    "\n",
    "% moves only to adjecent fields\n",
    ":- occurs(move((X1,Y1), (X2,Y2)), T), |X1-X2|+|Y1-Y2|!=1.\n",
    "\n",
    "% moves only on to blank field\n",
    ":- occurs(move((X1,Y1), (X2,Y2)), T), holds(loc(X2,Y2,P2),T), P2!=blank.\n",
    "\n",
    "% update and inertia\n",
    "holds(loc(X_to,Y_to,N_from), T+1) :- occurs(move((X_from, Y_from), (X_to, Y_to)), T), holds(loc(X_from, Y_from, N_from), T).\n",
    "holds(loc(X_from,Y_from, blank), T+1) :- occurs(move((X_from, Y_from), (X_to, Y_to)), T).\n",
    "{holds(L,T+1)} :- holds(L,T), T=0..horizon-1.\n",
    ":- #count{X,Y : holds(loc(X,Y,N),T)} != 1, T=0..horizon, elements(N).\n",
    "\n",
    "#maximize{T: occurs(wait,T)}.\n",
    "\n",
    "N1=N2 :- holds(loc(X,Y,N1),horizon), final(loc(X,Y,N2)).\n",
    "\n",
    "#show occurs/2."
   ]
  },
  {
   "cell_type": "raw",
   "metadata": {},
   "source": [
    "!clingo ./instances/puzzle_input.lp ./instances/puzzle.lp --parallel-mode 4"
   ]
  }
 ],
 "metadata": {
  "kernelspec": {
   "display_name": "potassco",
   "language": "python",
   "name": "python3"
  },
  "language_info": {
   "codemirror_mode": {
    "name": "ipython",
    "version": 3
   },
   "file_extension": ".py",
   "mimetype": "text/x-python",
   "name": "python",
   "nbconvert_exporter": "python",
   "pygments_lexer": "ipython3",
   "version": "3.11.3"
  },
  "orig_nbformat": 4
 },
 "nbformat": 4,
 "nbformat_minor": 2
}
