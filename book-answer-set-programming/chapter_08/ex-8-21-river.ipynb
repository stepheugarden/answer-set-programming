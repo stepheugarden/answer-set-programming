{
 "cells": [
  {
   "attachments": {},
   "cell_type": "markdown",
   "metadata": {},
   "source": [
    "# Crossing a river\n",
    "\n",
    "We have items $a$ and $b$ and a boat that can cross a river and take one item at a time.\n",
    "\n",
    "Initially:\n",
    "- the boat and item $a$ are on the left shore\n",
    "- item $b$ is on the right side\n",
    "\n",
    "Actions:\n",
    "1. cross the river with the boat\n",
    "2. take $b$ to the left side\n",
    "\n",
    "Build a program that executes these actions."
   ]
  },
  {
   "cell_type": "code",
   "execution_count": 1,
   "metadata": {},
   "outputs": [
    {
     "name": "stdout",
     "output_type": "stream",
     "text": [
      "Overwriting ./instances/river.lp\n"
     ]
    }
   ],
   "source": [
    "%%file ./instances/river.lp\n",
    "\n",
    "% horizon: we have three actions to execute\n",
    "#const h=2.\n",
    "\n",
    "% initial states\n",
    "opposite(left, right; right, left).\n",
    "init(loc(boat, left); loc(a, left); loc(b, right)).\n",
    "holds(I,0) :- init(I).\n",
    "\n",
    "% actions executed\n",
    "occurs(cross,0; transport,1).\n",
    "\n",
    "% cross\n",
    "holds(loc(boat, S), T+1) :- occurs(cross,T), holds(loc(boat, S_t), T), opposite(S_t,S), T=0..h-1.\n",
    "%:- #count{S: holds(loc(boat, S), T)} != 1, T=0..h.\n",
    "\n",
    "% transport: moving item and boat. Item and boat have to be on same side!\n",
    "holds(loc(boat, S), T+1) :- occurs(transport,T), holds(loc(boat, S_t), T), opposite(S_t,S), T=0..h-1.\n",
    "holds(loc(I,S), T+1) :- occurs(transport, T), holds(loc(I, S_t), T), holds(loc(boat, S_t), T), opposite(S_t,S), T=0..h-1.\n",
    "\n",
    ":- #count{S: holds(loc(I, S), T)} != 1, T=0..h, init(loc(I,_)).\n",
    "\n",
    "% inertia\n",
    "{holds(L, T+1)} :- holds(L,T), T=0..h-1.\n",
    "\n",
    "final(L) :- holds(L,h).\n",
    "\n",
    "#show final/1.\n",
    "%#show holds/2."
   ]
  },
  {
   "attachments": {},
   "cell_type": "markdown",
   "metadata": {},
   "source": [
    "Run the program and show final state: Everything is on the left side."
   ]
  },
  {
   "cell_type": "code",
   "execution_count": 2,
   "metadata": {},
   "outputs": [
    {
     "name": "stdout",
     "output_type": "stream",
     "text": [
      "clingo version 5.6.2\n",
      "Reading from ./instances/river.lp\n",
      "Solving...\n",
      "Answer: 1\n",
      "final(loc(boat,left)) final(loc(b,left)) final(loc(a,left))\n",
      "SATISFIABLE\n",
      "\n",
      "Models       : 1\n",
      "Calls        : 1\n",
      "Time         : 0.001s (Solving: 0.00s 1st Model: 0.00s Unsat: 0.00s)\n",
      "CPU Time     : 0.001s\n"
     ]
    }
   ],
   "source": [
    "!clingo ./instances/river.lp 0"
   ]
  }
 ],
 "metadata": {
  "kernelspec": {
   "display_name": "potassco",
   "language": "python",
   "name": "python3"
  },
  "language_info": {
   "codemirror_mode": {
    "name": "ipython",
    "version": 3
   },
   "file_extension": ".py",
   "mimetype": "text/x-python",
   "name": "python",
   "nbconvert_exporter": "python",
   "pygments_lexer": "ipython3",
   "version": "3.11.3"
  },
  "orig_nbformat": 4
 },
 "nbformat": 4,
 "nbformat_minor": 2
}
