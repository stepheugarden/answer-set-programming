{
 "cells": [
  {
   "attachments": {},
   "cell_type": "markdown",
   "metadata": {},
   "source": [
    "# Shoot a turkey\n",
    "\n",
    "You have the following state diagram where the turkey is either *alive* odr *dead* and the gun *loaded* or *unloaded*. Your actions at a time $t$ are either *load* or *shoot*\n",
    "```mermaid\n",
    "stateDiagram-v2\n",
    "    alive_loaded --> dead_unloaded:shoot\n",
    "    alive_unloaded --> alive_loaded: load\n",
    "    dead_unloaded --> dead_loaded: load\n",
    "    dead_loaded --> dead_unloaded: shoot\n",
    "```\n",
    "\n",
    "Initially:\n",
    "- the gun is unloaded\n",
    "- the turkey is alive\n",
    "\n",
    "Actions:\n",
    "1. load the gun\n",
    "2. shoot the turkey\n",
    "3. load the gun\n",
    "\n",
    "Build a program that executes these actions."
   ]
  },
  {
   "cell_type": "code",
   "execution_count": 1,
   "metadata": {},
   "outputs": [
    {
     "name": "stdout",
     "output_type": "stream",
     "text": [
      "Overwriting ./instances/turkey.lp\n"
     ]
    }
   ],
   "source": [
    "%%file ./instances/turkey.lp\n",
    "\n",
    "% horizon: we have three actions to execute\n",
    "#const h=3.\n",
    "\n",
    "% initial states\n",
    "init(state_of_gun(unloaded); state_of_turkey(alive)).\n",
    "holds(I,0) :- init(I).\n",
    "\n",
    "% actions executed\n",
    "occurs(load,0; shoot,1; load,2).\n",
    "\n",
    "% load: you can only load if gun is not already loaded\n",
    "holds(state_of_gun(loaded), T+1) :- occurs(load, T).\n",
    ":- holds(state_of_gun(loaded), T), occurs(load, T).\n",
    "\n",
    "% shoot: you cannot shoot if gun is unloaded\n",
    "holds(state_of_turkey(dead), T+1) :- occurs(shoot, T).\n",
    "holds(state_of_gun(unloaded), T+1) :- occurs(shoot, T).\n",
    ":- holds(state_of_gun(unloaded), T), occurs(shoot, T).\n",
    "\n",
    "% inertia: states are carried on if no action is executed\n",
    "{holds(state_of_turkey(Turkey), T+1)} :- holds(state_of_turkey(Turkey), T), T=0..h-1.\n",
    "{holds(state_of_gun(Gun), T+1)} :- holds(state_of_gun(Gun), T), T=0..h-1.\n",
    "\n",
    "% uniqueness\n",
    ":- #count{S: holds(state_of_gun(S),T)} != 1, T=0..h.\n",
    ":- #count{S: holds(state_of_turkey(S),T)} != 1, T=0..h.\n",
    "\n",
    "final(H) :- holds(H,h).\n",
    "\n",
    "#show final/1."
   ]
  },
  {
   "attachments": {},
   "cell_type": "markdown",
   "metadata": {},
   "source": [
    "Run the program and show final state:"
   ]
  },
  {
   "cell_type": "code",
   "execution_count": 2,
   "metadata": {},
   "outputs": [
    {
     "name": "stdout",
     "output_type": "stream",
     "text": [
      "clingo version 5.6.2\n",
      "Reading from ./instances/turkey.lp\n",
      "Solving...\n",
      "Answer: 1\n",
      "final(state_of_gun(loaded)) final(state_of_turkey(dead))\n",
      "SATISFIABLE\n",
      "\n",
      "Models       : 1\n",
      "Calls        : 1\n",
      "Time         : 0.001s (Solving: 0.00s 1st Model: 0.00s Unsat: 0.00s)\n",
      "CPU Time     : 0.001s\n"
     ]
    }
   ],
   "source": [
    "!clingo ./instances/turkey.lp 0"
   ]
  }
 ],
 "metadata": {
  "kernelspec": {
   "display_name": "potassco",
   "language": "python",
   "name": "python3"
  },
  "language_info": {
   "codemirror_mode": {
    "name": "ipython",
    "version": 3
   },
   "file_extension": ".py",
   "mimetype": "text/x-python",
   "name": "python",
   "nbconvert_exporter": "python",
   "pygments_lexer": "ipython3",
   "version": "3.11.3"
  },
  "orig_nbformat": 4
 },
 "nbformat": 4,
 "nbformat_minor": 2
}
