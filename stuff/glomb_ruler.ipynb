{
 "cells": [
  {
   "attachments": {},
   "cell_type": "markdown",
   "metadata": {},
   "source": [
    "# Golomb ruler puzzle\n",
    "\n",
    "See https://en.wikipedia.org/wiki/Golomb_ruler.\n",
    "\n",
    "Constraints:\n",
    "1. we have $n$ marks to set between $0,...,20$\n",
    "2. one difference between two marks to be equal to $10$\n",
    "3. all differences between marks have to be unique\n",
    "4. we want the last mark to be as low as possible (and at most at $20$)"
   ]
  },
  {
   "cell_type": "code",
   "execution_count": 28,
   "metadata": {},
   "outputs": [
    {
     "name": "stdout",
     "output_type": "stream",
     "text": [
      "Overwriting ./instances/golomb_ruler.lp\n"
     ]
    }
   ],
   "source": [
    "%%file ./instances/golomb_ruler.lp\n",
    "\n",
    "% Golomb ruler with n marks to be set. n defaults to 6\n",
    "#const n=6.\n",
    "{mark(N): N=0..20} = n.\n",
    "\n",
    "% one difference has to be 10\n",
    "difference(D) :- D = N1-N2, N1>N2, mark(N1), mark(N2).\n",
    "number_differences(N) :- N=#count{D: difference(D)}.\n",
    ":- not difference(10).\n",
    "\n",
    "% unique differences\n",
    ":- number_differences(N), N != n*(n-1)/2.\n",
    "\n",
    "max_mark(M) :- M=#max{N: mark(N)}.\n",
    "#minimize{M: max_mark(M)}.\n",
    "\n",
    "#show mark/1."
   ]
  },
  {
   "cell_type": "code",
   "execution_count": 29,
   "metadata": {},
   "outputs": [
    {
     "name": "stdout",
     "output_type": "stream",
     "text": [
      "clingo version 5.6.2\n",
      "Reading from ./instances/golomb_ruler.lp\n",
      "./instances/golomb_ruler.lp:15:11-12: info: tuple ignored:\n",
      "  #inf@0\n",
      "\n",
      "Solving...\n",
      "Answer: 1\n",
      "mark(0) mark(2) mark(9) mark(15) mark(19) mark(20)\n",
      "Optimization: 20\n",
      "Answer: 2\n",
      "mark(0) mark(6) mark(10) mark(15) mark(17) mark(18)\n",
      "Optimization: 18\n",
      "Answer: 3\n",
      "mark(0) mark(1) mark(4) mark(10) mark(15) mark(17)\n",
      "Optimization: 17\n",
      "OPTIMUM FOUND\n",
      "\n",
      "Models       : 3\n",
      "  Optimum    : yes\n",
      "Optimization : 17\n",
      "Calls        : 1\n",
      "Time         : 0.013s (Solving: 0.01s 1st Model: 0.00s Unsat: 0.00s)\n",
      "CPU Time     : 0.013s\n"
     ]
    }
   ],
   "source": [
    "!clingo ./instances/golomb_ruler.lp 0"
   ]
  },
  {
   "attachments": {},
   "cell_type": "markdown",
   "metadata": {},
   "source": [
    "So the best we can do is to set the 6 marks at: $0,1,4,10,15,17$."
   ]
  },
  {
   "attachments": {},
   "cell_type": "markdown",
   "metadata": {},
   "source": []
  }
 ],
 "metadata": {
  "kernelspec": {
   "display_name": "potassco",
   "language": "python",
   "name": "python3"
  },
  "language_info": {
   "codemirror_mode": {
    "name": "ipython",
    "version": 3
   },
   "file_extension": ".py",
   "mimetype": "text/x-python",
   "name": "python",
   "nbconvert_exporter": "python",
   "pygments_lexer": "ipython3",
   "version": "3.11.3"
  },
  "orig_nbformat": 4
 },
 "nbformat": 4,
 "nbformat_minor": 2
}
